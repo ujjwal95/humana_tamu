{
 "cells": [
  {
   "cell_type": "markdown",
   "metadata": {},
   "source": [
    "## Import Libraries"
   ]
  },
  {
   "cell_type": "code",
   "execution_count": 56,
   "metadata": {},
   "outputs": [],
   "source": [
    "import pandas as pd\n",
    "import numpy as np\n",
    "from collections import Counter\n",
    "import matplotlib.pyplot as plt\n",
    "import seaborn as sns\n",
    "from sklearn.preprocessing import StandardScaler\n",
    "from sklearn.ensemble import RandomForestRegressor, RandomForestClassifier\n",
    "from sklearn.preprocessing import StandardScaler\n",
    "from sklearn.cross_validation import train_test_split\n",
    "from sklearn.svm import SVC\n",
    "from sklearn.metrics import accuracy_score, confusion_matrix, precision_recall_curve, average_precision_score, roc_curve, auc\n",
    "from sklearn.utils.fixes import signature\n",
    "from sklearn.decomposition import PCA\n",
    "import lightgbm as lgb\n",
    "import keras\n",
    "import random\n",
    "from keras.models import Sequential\n",
    "from keras.layers import Dense, Dropout\n",
    "from keras.optimizers import Adam, RMSprop, SGD\n",
    "import tensorflow as tf\n",
    "import xgboost as xgb\n",
    "import catboost as cat\n",
    "%matplotlib inline\n",
    "sns.set(color_codes=True)"
   ]
  },
  {
   "cell_type": "markdown",
   "metadata": {},
   "source": [
    "### Some functions for Plots and P-R values"
   ]
  },
  {
   "cell_type": "code",
   "execution_count": 57,
   "metadata": {},
   "outputs": [],
   "source": [
    "def confusion_mat(predictions, y_test, threshold = 0.5):\n",
    "    predictions_class = [0  if i > threshold else 1 for i in predictions]\n",
    "    mat = confusion_matrix(y_test, predictions_class)\n",
    "\n",
    "    sns.heatmap(mat, square=True, annot=True, cbar=False)\n",
    "    plt.xlabel('predicted value')\n",
    "    plt.ylabel('true value')\n",
    "    return mat"
   ]
  },
  {
   "cell_type": "code",
   "execution_count": 58,
   "metadata": {},
   "outputs": [],
   "source": [
    "def precision_recall(mat):\n",
    "    true_pos = mat[1][1]\n",
    "    true_neg = mat[0][0]\n",
    "    false_pos = mat[0][1]\n",
    "    false_neg = mat[1][0]\n",
    "\n",
    "    precision = true_pos / (true_pos+false_pos)\n",
    "    recall = true_pos / (true_pos + false_neg)\n",
    "    \n",
    "    print('precision: %0.2f, recall: %0.3f' %(precision, recall))\n",
    "    return 0"
   ]
  },
  {
   "cell_type": "code",
   "execution_count": 59,
   "metadata": {},
   "outputs": [],
   "source": [
    "def pr_curve(predictions, y_test):\n",
    "    average_precision = average_precision_score(y_test, predictions)\n",
    "\n",
    "    print('Average precision-recall score: {0:0.3f}'.format(\n",
    "          average_precision))\n",
    "\n",
    "    a4_dims = (11.7, 8.27)\n",
    "    fig, ax = plt.subplots(figsize=a4_dims)\n",
    "    precision, recall, _ = precision_recall_curve(y_test, predictions)\n",
    "\n",
    "    step_kwargs = ({'step': 'post'}\n",
    "                   if 'step' in signature(plt.fill_between).parameters\n",
    "                   else {})\n",
    "    plt.step(recall, precision, color='b', alpha=0.2,\n",
    "             where='post')\n",
    "    plt.fill_between(recall, precision, alpha=0.2, color='b', **step_kwargs)\n",
    "\n",
    "    plt.xlabel('Recall')\n",
    "    plt.ylabel('Precision')\n",
    "    plt.ylim([0.0, 1.05])\n",
    "    plt.xlim([0.0, 1.0])\n",
    "    plt.title('2-class Precision-Recall curve: AP={0:0.3f}'.format(\n",
    "              average_precision))"
   ]
  },
  {
   "cell_type": "code",
   "execution_count": 60,
   "metadata": {},
   "outputs": [],
   "source": [
    "def as_keras_metric(method):\n",
    "    import functools\n",
    "    from keras import backend as K\n",
    "    import tensorflow as tf\n",
    "    @functools.wraps(method)\n",
    "    def wrapper(self, args, **kwargs):\n",
    "        \"\"\" Wrapper for turning tensorflow metrics into keras metrics \"\"\"\n",
    "        value, update_op = method(self, args, **kwargs)\n",
    "        K.get_session().run(tf.local_variables_initializer())\n",
    "        with tf.control_dependencies([update_op]):\n",
    "            value = tf.identity(value)\n",
    "        return value\n",
    "    return wrapper"
   ]
  },
  {
   "cell_type": "code",
   "execution_count": 61,
   "metadata": {},
   "outputs": [],
   "source": [
    "precision = as_keras_metric(tf.metrics.precision)\n",
    "recall = as_keras_metric(tf.metrics.recall)\n",
    "@as_keras_metric\n",
    "def auc_pr(y_true, y_pred, curve='PR'):\n",
    "    return tf.metrics.auc(y_true, y_pred, curve=curve,summation_method='careful_interpolation')"
   ]
  },
  {
   "cell_type": "code",
   "execution_count": 62,
   "metadata": {},
   "outputs": [],
   "source": [
    "def roc(predictions, y_test):\n",
    "    fpr, tpr, thresholds = roc_curve(y_test, predictions)\n",
    "    roc_auc = auc(fpr, tpr)\n",
    "    lw = 2\n",
    "    plt.figure()\n",
    "    plt.plot(fpr, tpr, color='darkorange', lw=1, label='ROC curve (area = %0.2f)' % roc_auc)\n",
    "    plt.plot([0, 1], [0, 1], color='navy', lw=lw, linestyle='--')\n",
    "    plt.xlim([0.0, 1.0])\n",
    "    plt.ylim([0.0, 1.05])\n",
    "    plt.xlabel('False Positive Rate')\n",
    "    plt.ylabel('True Positive Rate')\n",
    "    plt.title('Receiver operating characteristic')\n",
    "    plt.legend(loc=\"lower right\")\n",
    "    plt.show()\n",
    "    return 0"
   ]
  },
  {
   "cell_type": "code",
   "execution_count": 63,
   "metadata": {},
   "outputs": [],
   "source": [
    "def plotLiftChart(actual, predicted):\n",
    "    df_dict = {'actual': list (actual), 'pred': list(predicted)}\n",
    "    df = pd.DataFrame(df_dict)\n",
    "    pred_ranks = pd.qcut(df['pred'].rank(method='first'), 100, labels=False)\n",
    "    actual_ranks = pd.qcut(df['actual'].rank(method='first'), 100, labels=False)\n",
    "    pred_percentiles = df.groupby(pred_ranks).mean()\n",
    "    actual_percentiles = df.groupby(actual_ranks).mean()\n",
    "    plt.title('Lift Chart')\n",
    "    plt.plot(np.arange(.01, 1.01, .01), np.array(pred_percentiles['pred']),\n",
    "             color='darkorange', lw=2, label='Prediction')\n",
    "    plt.plot(np.arange(.01, 1.01, .01), np.array(pred_percentiles['actual']),\n",
    "             color='navy', lw=2, linestyle='--', label='Actual')\n",
    "    plt.ylabel('Target Percentile')\n",
    "    plt.xlabel('Population Percentile')\n",
    "    plt.xlim([0.0, 1.0])\n",
    "    plt.ylim([-0.05, 1.05])\n",
    "    plt.legend(loc=\"best\")"
   ]
  },
  {
   "cell_type": "markdown",
   "metadata": {},
   "source": [
    "## Load Data"
   ]
  },
  {
   "cell_type": "code",
   "execution_count": 64,
   "metadata": {},
   "outputs": [],
   "source": [
    "data_intermediate = pd.read_csv('intermediate_data.csv')"
   ]
  },
  {
   "cell_type": "markdown",
   "metadata": {},
   "source": [
    "### Feature Engineering"
   ]
  },
  {
   "cell_type": "code",
   "execution_count": 65,
   "metadata": {},
   "outputs": [],
   "source": [
    "data_intermediate['age_bracket'] = [0  if i < 65 else (1 if i < 75 else 2) for i in data_intermediate['AGE']]"
   ]
  },
  {
   "cell_type": "code",
   "execution_count": 66,
   "metadata": {},
   "outputs": [],
   "source": [
    "col_sums = [\n",
    "'CV_CAD',\n",
    "'CV_CHF',\n",
    "'CV_CIR',\n",
    "'CV_CER',\n",
    "'CV_HDZ',\n",
    "'CV_SNS',\n",
    "'CV_PVD',\n",
    "'RES_ALG',\n",
    "'RES_AST',\n",
    "'RES_COPD',\n",
    "'RES_FAIL',\n",
    "'RES_INF',\n",
    "'DIABETES',\n",
    "'Diab_Complications',\n",
    "'PREDIABETES',\n",
    "'HYPERTENSION',\n",
    "'HYPERLIPID',\n",
    "'RENAL',\n",
    "'CKD',\n",
    "'ESRD',\n",
    "'MUSCUL_OTH',\n",
    "'MUSCUL_BN',\n",
    "'OSTEO',\n",
    "'ARTH']"
   ]
  },
  {
   "cell_type": "code",
   "execution_count": 67,
   "metadata": {},
   "outputs": [],
   "source": [
    "data_intermediate['comorbid'] = data_intermediate[col_sums].sum(axis=1)\n",
    "data_intermediate['chad_proxy'] = data_intermediate['comorbid'] + data_intermediate['age_bracket'] + [0  if i == 'F' else 1 for i in data_intermediate['SEX_CD']]"
   ]
  },
  {
   "cell_type": "code",
   "execution_count": 68,
   "metadata": {},
   "outputs": [
    {
     "data": {
      "text/html": [
       "<div>\n",
       "<style scoped>\n",
       "    .dataframe tbody tr th:only-of-type {\n",
       "        vertical-align: middle;\n",
       "    }\n",
       "\n",
       "    .dataframe tbody tr th {\n",
       "        vertical-align: top;\n",
       "    }\n",
       "\n",
       "    .dataframe thead th {\n",
       "        text-align: right;\n",
       "    }\n",
       "</style>\n",
       "<table border=\"1\" class=\"dataframe\">\n",
       "  <thead>\n",
       "    <tr style=\"text-align: right;\">\n",
       "      <th></th>\n",
       "      <th>ID</th>\n",
       "      <th>AGE</th>\n",
       "      <th>SEX_CD</th>\n",
       "      <th>AMI_FLAG</th>\n",
       "      <th>ESRD_IND</th>\n",
       "      <th>HOSPICE_IND</th>\n",
       "      <th>ORIG_REAS_ENTITLE_CD</th>\n",
       "      <th>RECON_MA_RISK_SCORE_NBR</th>\n",
       "      <th>RECON_RX_RISK_SCORE_NBR</th>\n",
       "      <th>PCP_ASSIGNMENT</th>\n",
       "      <th>...</th>\n",
       "      <th>AMM_GAP</th>\n",
       "      <th>DIAB_PASS</th>\n",
       "      <th>ACE_PASS</th>\n",
       "      <th>STATIN_PASS</th>\n",
       "      <th>ACE_ELIG</th>\n",
       "      <th>DIAB_ELIG</th>\n",
       "      <th>STATIN_ELIG</th>\n",
       "      <th>age_bracket</th>\n",
       "      <th>comorbid</th>\n",
       "      <th>chad_proxy</th>\n",
       "    </tr>\n",
       "  </thead>\n",
       "  <tbody>\n",
       "    <tr>\n",
       "      <th>0</th>\n",
       "      <td>1</td>\n",
       "      <td>77</td>\n",
       "      <td>F</td>\n",
       "      <td>0</td>\n",
       "      <td>N</td>\n",
       "      <td>N</td>\n",
       "      <td>0.0</td>\n",
       "      <td>0.424</td>\n",
       "      <td>0.402</td>\n",
       "      <td>MEMBER SELECTED</td>\n",
       "      <td>...</td>\n",
       "      <td>0</td>\n",
       "      <td>0</td>\n",
       "      <td>0</td>\n",
       "      <td>0</td>\n",
       "      <td>0</td>\n",
       "      <td>0</td>\n",
       "      <td>0</td>\n",
       "      <td>2</td>\n",
       "      <td>2</td>\n",
       "      <td>4</td>\n",
       "    </tr>\n",
       "    <tr>\n",
       "      <th>1</th>\n",
       "      <td>2</td>\n",
       "      <td>49</td>\n",
       "      <td>F</td>\n",
       "      <td>0</td>\n",
       "      <td>N</td>\n",
       "      <td>N</td>\n",
       "      <td>1.0</td>\n",
       "      <td>2.879</td>\n",
       "      <td>1.159</td>\n",
       "      <td>ATTRIBUTED</td>\n",
       "      <td>...</td>\n",
       "      <td>0</td>\n",
       "      <td>0</td>\n",
       "      <td>0</td>\n",
       "      <td>1</td>\n",
       "      <td>0</td>\n",
       "      <td>0</td>\n",
       "      <td>1</td>\n",
       "      <td>0</td>\n",
       "      <td>7</td>\n",
       "      <td>7</td>\n",
       "    </tr>\n",
       "    <tr>\n",
       "      <th>2</th>\n",
       "      <td>3</td>\n",
       "      <td>75</td>\n",
       "      <td>F</td>\n",
       "      <td>0</td>\n",
       "      <td>N</td>\n",
       "      <td>N</td>\n",
       "      <td>0.0</td>\n",
       "      <td>0.638</td>\n",
       "      <td>0.568</td>\n",
       "      <td>MEMBER SELECTED</td>\n",
       "      <td>...</td>\n",
       "      <td>0</td>\n",
       "      <td>0</td>\n",
       "      <td>1</td>\n",
       "      <td>1</td>\n",
       "      <td>1</td>\n",
       "      <td>0</td>\n",
       "      <td>1</td>\n",
       "      <td>2</td>\n",
       "      <td>1</td>\n",
       "      <td>3</td>\n",
       "    </tr>\n",
       "    <tr>\n",
       "      <th>3</th>\n",
       "      <td>4</td>\n",
       "      <td>68</td>\n",
       "      <td>M</td>\n",
       "      <td>0</td>\n",
       "      <td>N</td>\n",
       "      <td>N</td>\n",
       "      <td>0.0</td>\n",
       "      <td>0.584</td>\n",
       "      <td>0.886</td>\n",
       "      <td>MEMBER SELECTED</td>\n",
       "      <td>...</td>\n",
       "      <td>0</td>\n",
       "      <td>1</td>\n",
       "      <td>1</td>\n",
       "      <td>1</td>\n",
       "      <td>1</td>\n",
       "      <td>1</td>\n",
       "      <td>1</td>\n",
       "      <td>1</td>\n",
       "      <td>5</td>\n",
       "      <td>7</td>\n",
       "    </tr>\n",
       "    <tr>\n",
       "      <th>4</th>\n",
       "      <td>5</td>\n",
       "      <td>81</td>\n",
       "      <td>F</td>\n",
       "      <td>0</td>\n",
       "      <td>N</td>\n",
       "      <td>N</td>\n",
       "      <td>1.0</td>\n",
       "      <td>1.242</td>\n",
       "      <td>1.212</td>\n",
       "      <td>MEMBER SELECTED</td>\n",
       "      <td>...</td>\n",
       "      <td>0</td>\n",
       "      <td>0</td>\n",
       "      <td>0</td>\n",
       "      <td>0</td>\n",
       "      <td>0</td>\n",
       "      <td>0</td>\n",
       "      <td>0</td>\n",
       "      <td>2</td>\n",
       "      <td>5</td>\n",
       "      <td>7</td>\n",
       "    </tr>\n",
       "  </tbody>\n",
       "</table>\n",
       "<p>5 rows × 451 columns</p>\n",
       "</div>"
      ],
      "text/plain": [
       "   ID  AGE SEX_CD  AMI_FLAG ESRD_IND HOSPICE_IND  ORIG_REAS_ENTITLE_CD  \\\n",
       "0   1   77      F         0        N           N                   0.0   \n",
       "1   2   49      F         0        N           N                   1.0   \n",
       "2   3   75      F         0        N           N                   0.0   \n",
       "3   4   68      M         0        N           N                   0.0   \n",
       "4   5   81      F         0        N           N                   1.0   \n",
       "\n",
       "   RECON_MA_RISK_SCORE_NBR  RECON_RX_RISK_SCORE_NBR   PCP_ASSIGNMENT  \\\n",
       "0                    0.424                    0.402  MEMBER SELECTED   \n",
       "1                    2.879                    1.159       ATTRIBUTED   \n",
       "2                    0.638                    0.568  MEMBER SELECTED   \n",
       "3                    0.584                    0.886  MEMBER SELECTED   \n",
       "4                    1.242                    1.212  MEMBER SELECTED   \n",
       "\n",
       "      ...     AMM_GAP DIAB_PASS ACE_PASS STATIN_PASS ACE_ELIG  DIAB_ELIG  \\\n",
       "0     ...           0         0        0           0        0          0   \n",
       "1     ...           0         0        0           1        0          0   \n",
       "2     ...           0         0        1           1        1          0   \n",
       "3     ...           0         1        1           1        1          1   \n",
       "4     ...           0         0        0           0        0          0   \n",
       "\n",
       "   STATIN_ELIG  age_bracket  comorbid  chad_proxy  \n",
       "0            0            2         2           4  \n",
       "1            1            0         7           7  \n",
       "2            1            2         1           3  \n",
       "3            1            1         5           7  \n",
       "4            0            2         5           7  \n",
       "\n",
       "[5 rows x 451 columns]"
      ]
     },
     "execution_count": 68,
     "metadata": {},
     "output_type": "execute_result"
    }
   ],
   "source": [
    "data_intermediate.head()"
   ]
  },
  {
   "cell_type": "markdown",
   "metadata": {},
   "source": [
    "## Modelling"
   ]
  },
  {
   "cell_type": "markdown",
   "metadata": {},
   "source": [
    "### Change Categorical to Numeric"
   ]
  },
  {
   "cell_type": "code",
   "execution_count": 69,
   "metadata": {},
   "outputs": [],
   "source": [
    "for i in data_intermediate.columns:\n",
    "    if data_intermediate[i].dtype == object:\n",
    "        if i == 'AMI_FLAG' or i == 'ID':\n",
    "             continue\n",
    "#         print(i)\n",
    "#         print(data[i].dtype)\n",
    "#         print(len(data[i].unique()))\n",
    "        if len(data_intermediate[i].unique()) == 2:\n",
    "            dummy = pd.get_dummies(data_intermediate[i],prefix=i, drop_first=True)\n",
    "        else:\n",
    "            dummy = pd.get_dummies(data_intermediate[i], prefix=i)\n",
    "        data_intermediate = pd.concat([data_intermediate,dummy], axis = 1)\n",
    "        data_intermediate.drop(i, axis = 1, inplace = True)"
   ]
  },
  {
   "cell_type": "code",
   "execution_count": 70,
   "metadata": {},
   "outputs": [],
   "source": [
    "columns_to_categorize = ['ORIG_REAS_ENTITLE_CD', \n",
    "                         'Education_level']"
   ]
  },
  {
   "cell_type": "code",
   "execution_count": 71,
   "metadata": {},
   "outputs": [],
   "source": [
    "for i in columns_to_categorize:\n",
    "    if len(data_intermediate[i].unique()) == 2:\n",
    "        dummy = pd.get_dummies(data_intermediate[i],prefix=i, drop_first=True)\n",
    "    else:\n",
    "        dummy = pd.get_dummies(data_intermediate[i], prefix=i)\n",
    "    data_intermediate = pd.concat([data_intermediate,dummy], axis = 1)\n",
    "    data_intermediate.drop(i, axis = 1, inplace = True)"
   ]
  },
  {
   "cell_type": "markdown",
   "metadata": {},
   "source": [
    "### Data Engineering"
   ]
  },
  {
   "cell_type": "code",
   "execution_count": 72,
   "metadata": {},
   "outputs": [],
   "source": [
    "conditions = ['01','02','03','04','05','06','07','08','09','10','11','12','13','14','15','16','17','18','19','20','21',\n",
    "'22','23','24','25','26','27','28','29','30','31','32','33','99']"
   ]
  },
  {
   "cell_type": "code",
   "execution_count": 73,
   "metadata": {},
   "outputs": [],
   "source": [
    "col_cond_list = list()\n",
    "for x in conditions:\n",
    "    col_cond_list.append([col for col in data_intermediate if col.startswith('CON_VISIT_'+ x)])\n",
    "col_cond_list = [sorted(x) for x in col_cond_list]\n",
    "for i in col_cond_list:\n",
    "    if not i:\n",
    "        continue\n",
    "    data_intermediate[i[0][0:12]+'_WEIGHTED'] = (data_intermediate[i[0]]*1.0 + data_intermediate[i[1]]*0.9 + data_intermediate[i[2]]*0.8 + data_intermediate[i[3]]*0.7)/4\n",
    "for i in col_cond_list:\n",
    "    if not i:\n",
    "        continue\n",
    "    data_intermediate[i[0][0:12]+'_UNWEIGHTED'] = (data_intermediate[i[0]]*1.0 + data_intermediate[i[1]]*1.0 + data_intermediate[i[2]]*1.0 + data_intermediate[i[3]]*1.0)/4\n",
    "\n",
    "for i in col_cond_list:\n",
    "    if not i:\n",
    "        continue\n",
    "    data_intermediate[i[0][0:12]+'__WEIGHTED_SUM'] = (data_intermediate[i[0]]*1.0 + data_intermediate[i[1]]*0.9 + data_intermediate[i[2]]*0.8 + data_intermediate[i[3]]*0.7)\n",
    "\n",
    "for i in col_cond_list:\n",
    "    if not i:\n",
    "        continue\n",
    "    data_intermediate[i[0][0:12]+'_UNWEIGHTED_SUM'] = (data_intermediate[i[0]]*1.0 + data_intermediate[i[1]]*1.0 + data_intermediate[i[2]]*1.0 + data_intermediate[i[3]]*1.0)"
   ]
  },
  {
   "cell_type": "markdown",
   "metadata": {},
   "source": [
    "## Selecting required columns"
   ]
  },
  {
   "cell_type": "code",
   "execution_count": 74,
   "metadata": {},
   "outputs": [],
   "source": [
    "columns_to_remove = ['ID']\n",
    "target_column = 'AMI_FLAG'"
   ]
  },
  {
   "cell_type": "code",
   "execution_count": 75,
   "metadata": {},
   "outputs": [],
   "source": [
    "id_cols = data_intermediate[columns_to_remove]"
   ]
  },
  {
   "cell_type": "code",
   "execution_count": 76,
   "metadata": {},
   "outputs": [],
   "source": [
    "data_intermediate.drop(columns_to_remove, axis = 1, inplace = True, errors = 'ignore')"
   ]
  },
  {
   "cell_type": "code",
   "execution_count": 77,
   "metadata": {},
   "outputs": [],
   "source": [
    "x, y = data_intermediate.loc[:, data_intermediate.columns != target_column],data_intermediate.loc[:, data_intermediate.columns == target_column]"
   ]
  },
  {
   "cell_type": "markdown",
   "metadata": {},
   "source": [
    "## Train test split"
   ]
  },
  {
   "cell_type": "code",
   "execution_count": 78,
   "metadata": {},
   "outputs": [],
   "source": [
    "x_train, x_test, y_train, y_test = train_test_split(x, y, test_size = 0.4, random_state = 42, stratify = y)\n",
    "x_val, x_test, y_val, y_test = train_test_split(x_test, y_test, test_size = 0.5, random_state = 42, stratify = y_test)"
   ]
  },
  {
   "cell_type": "markdown",
   "metadata": {},
   "source": [
    "## Feature Scaling"
   ]
  },
  {
   "cell_type": "code",
   "execution_count": 79,
   "metadata": {},
   "outputs": [],
   "source": [
    "scaler = StandardScaler()\n",
    "\n",
    "x_train = scaler.fit_transform(x_train)\n",
    "x_train = pd.DataFrame(x_train, columns= x.columns)\n",
    "\n",
    "x_test = scaler.transform(x_test)\n",
    "x_test = pd.DataFrame(x_test, columns= x.columns)\n",
    "x_val = scaler.transform(x_val)\n",
    "x_val = pd.DataFrame(x_val, columns= x.columns)\n",
    "\n",
    "y_train = y_train.reset_index(drop=True)\n",
    "y_test = y_test.reset_index(drop = True)\n",
    "y_val = y_val.reset_index(drop = True)"
   ]
  },
  {
   "cell_type": "markdown",
   "metadata": {},
   "source": [
    "### Balancing the dataset"
   ]
  },
  {
   "cell_type": "code",
   "execution_count": 80,
   "metadata": {},
   "outputs": [],
   "source": [
    "from imblearn import under_sampling,over_sampling"
   ]
  },
  {
   "cell_type": "code",
   "execution_count": 81,
   "metadata": {},
   "outputs": [],
   "source": [
    "sampling = under_sampling.RandomUnderSampler(random_state=42, ratio= 0.33, return_indices= True)"
   ]
  },
  {
   "cell_type": "code",
   "execution_count": 82,
   "metadata": {},
   "outputs": [
    {
     "name": "stderr",
     "output_type": "stream",
     "text": [
      "/anaconda3/envs/coms007/lib/python3.6/site-packages/sklearn/utils/validation.py:578: DataConversionWarning: A column-vector y was passed when a 1d array was expected. Please change the shape of y to (n_samples, ), for example using ravel().\n",
      "  y = column_or_1d(y, warn=True)\n",
      "/anaconda3/envs/coms007/lib/python3.6/site-packages/sklearn/utils/deprecation.py:77: DeprecationWarning: Function _ratio_float is deprecated; Use a float for 'ratio' is deprecated from version 0.2. The support will be removed in 0.4. Use a dict, str, or a callable instead.\n",
      "  warnings.warn(msg, category=DeprecationWarning)\n",
      "/anaconda3/envs/coms007/lib/python3.6/site-packages/sklearn/utils/validation.py:578: DataConversionWarning: A column-vector y was passed when a 1d array was expected. Please change the shape of y to (n_samples, ), for example using ravel().\n",
      "  y = column_or_1d(y, warn=True)\n"
     ]
    }
   ],
   "source": [
    "x_resampled, y_resampled, idx_resampled = sampling.fit_sample(x_train, y_train)"
   ]
  },
  {
   "cell_type": "code",
   "execution_count": 83,
   "metadata": {},
   "outputs": [],
   "source": [
    "y_train = y_train.iloc[idx_resampled]\n",
    "x_train = x_train.iloc[idx_resampled]"
   ]
  },
  {
   "cell_type": "markdown",
   "metadata": {},
   "source": [
    "## Modelling"
   ]
  },
  {
   "cell_type": "code",
   "execution_count": 84,
   "metadata": {},
   "outputs": [],
   "source": [
    "model = xgb.XGBClassifier(n_estimators = 200)"
   ]
  },
  {
   "cell_type": "code",
   "execution_count": 85,
   "metadata": {},
   "outputs": [
    {
     "name": "stderr",
     "output_type": "stream",
     "text": [
      "/anaconda3/envs/coms007/lib/python3.6/site-packages/sklearn/preprocessing/label.py:95: DataConversionWarning: A column-vector y was passed when a 1d array was expected. Please change the shape of y to (n_samples, ), for example using ravel().\n",
      "  y = column_or_1d(y, warn=True)\n",
      "/anaconda3/envs/coms007/lib/python3.6/site-packages/sklearn/preprocessing/label.py:128: DataConversionWarning: A column-vector y was passed when a 1d array was expected. Please change the shape of y to (n_samples, ), for example using ravel().\n",
      "  y = column_or_1d(y, warn=True)\n"
     ]
    },
    {
     "data": {
      "text/plain": [
       "XGBClassifier(base_score=0.5, booster='gbtree', colsample_bylevel=1,\n",
       "       colsample_bytree=1, gamma=0, learning_rate=0.1, max_delta_step=0,\n",
       "       max_depth=3, min_child_weight=1, missing=None, n_estimators=200,\n",
       "       n_jobs=1, nthread=None, objective='binary:logistic', random_state=0,\n",
       "       reg_alpha=0, reg_lambda=1, scale_pos_weight=1, seed=None,\n",
       "       silent=True, subsample=1)"
      ]
     },
     "execution_count": 85,
     "metadata": {},
     "output_type": "execute_result"
    }
   ],
   "source": [
    "model.fit(x_train, y_train)"
   ]
  },
  {
   "cell_type": "code",
   "execution_count": 86,
   "metadata": {},
   "outputs": [],
   "source": [
    "y_pred = model.predict_proba(x_test)"
   ]
  },
  {
   "cell_type": "markdown",
   "metadata": {},
   "source": [
    "### Quality of predictions"
   ]
  },
  {
   "cell_type": "code",
   "execution_count": 87,
   "metadata": {},
   "outputs": [],
   "source": [
    "predictions = y_pred[:,0]\n",
    "threshold = 0.5"
   ]
  },
  {
   "cell_type": "code",
   "execution_count": 88,
   "metadata": {},
   "outputs": [
    {
     "data": {
      "image/png": "[encoded data removed]",
      "text/plain": [
       "<Figure size 432x288 with 1 Axes>"
      ]
     },
     "metadata": {},
     "output_type": "display_data"
    }
   ],
   "source": [
    "mat = confusion_mat(predictions=predictions, threshold=0.5, y_test=y_test)"
   ]
  },
  {
   "cell_type": "code",
   "execution_count": 89,
   "metadata": {},
   "outputs": [
    {
     "name": "stdout",
     "output_type": "stream",
     "text": [
      "precision: 0.09, recall: 0.236\n"
     ]
    },
    {
     "data": {
      "text/plain": [
       "0"
      ]
     },
     "execution_count": 89,
     "metadata": {},
     "output_type": "execute_result"
    }
   ],
   "source": [
    "precision_recall(mat = mat)"
   ]
  },
  {
   "cell_type": "code",
   "execution_count": 90,
   "metadata": {},
   "outputs": [
    {
     "name": "stdout",
     "output_type": "stream",
     "text": [
      "Average precision-recall score: 0.017\n"
     ]
    },
    {
     "data": {
      "image/png": "[encoded data removed]",
      "text/plain": [
       "<Figure size 842.4x595.44 with 1 Axes>"
      ]
     },
     "metadata": {},
     "output_type": "display_data"
    }
   ],
   "source": [
    "pr_curve(predictions=predictions, y_test=y_test)"
   ]
  },
  {
   "cell_type": "code",
   "execution_count": 91,
   "metadata": {},
   "outputs": [
    {
     "data": {
      "image/png": "[encoded data removed]",
      "text/plain": [
       "<Figure size 432x288 with 1 Axes>"
      ]
     },
     "metadata": {},
     "output_type": "display_data"
    },
    {
     "data": {
      "text/plain": [
       "0"
      ]
     },
     "execution_count": 91,
     "metadata": {},
     "output_type": "execute_result"
    }
   ],
   "source": [
    "roc(predictions, y_test)"
   ]
  },
  {
   "cell_type": "code",
   "execution_count": 92,
   "metadata": {},
   "outputs": [],
   "source": [
    "import scikitplot as skplt"
   ]
  },
  {
   "cell_type": "code",
   "execution_count": 93,
   "metadata": {},
   "outputs": [
    {
     "name": "stderr",
     "output_type": "stream",
     "text": [
      "/anaconda3/envs/coms007/lib/python3.6/site-packages/matplotlib/cbook/deprecation.py:107: MatplotlibDeprecationWarning: Passing one of 'on', 'true', 'off', 'false' as a boolean is deprecated; use an actual boolean (True/False) instead.\n",
      "  warnings.warn(message, mplDeprecation, stacklevel=1)\n"
     ]
    },
    {
     "data": {
      "image/png": "[encoded data removed]",
      "text/plain": [
       "<Figure size 432x288 with 1 Axes>"
      ]
     },
     "metadata": {},
     "output_type": "display_data"
    }
   ],
   "source": [
    "skplt.metrics.plot_cumulative_gain(y_test['AMI_FLAG'], y_pred)\n",
    "plt.show()"
   ]
  },
  {
   "cell_type": "markdown",
   "metadata": {},
   "source": [
    "### Plot Feature Importances"
   ]
  },
  {
   "cell_type": "code",
   "execution_count": 102,
   "metadata": {},
   "outputs": [],
   "source": [
    "feat_imp = pd.DataFrame({'columns':x_train.columns,'feat_imp':model.feature_importances_})\n",
    "\n",
    "feat_imp.sort_values('feat_imp', ascending=False, inplace=True)\n",
    "\n",
    "# top 100 columns\n",
    "i = 100\n",
    "top_cols = feat_imp.head(i)['columns'].values\n",
    "\n",
    "a4_dims = (11.7, 8.27)\n",
    "fig, ax = plt.subplots(figsize=a4_dims)\n",
    "sns.stripplot(y= 'columns', x = 'feat_imp', data = feat_imp.head(20), palette=['purple'])"
   ]
  },
  {
   "cell_type": "markdown",
   "metadata": {},
   "source": [
    "### Make Model with new features"
   ]
  },
  {
   "cell_type": "code",
   "execution_count": null,
   "metadata": {},
   "outputs": [],
   "source": [
    "x_train_feat = x_train[top_cols]\n",
    "x_test_feat = x_test[top_cols]"
   ]
  },
  {
   "cell_type": "code",
   "execution_count": null,
   "metadata": {},
   "outputs": [],
   "source": [
    "model_feat = lgb.LGBMClassifier(n_estimators= 500)"
   ]
  },
  {
   "cell_type": "code",
   "execution_count": null,
   "metadata": {},
   "outputs": [],
   "source": [
    "model_feat.fit(x_train_feat, y_train)"
   ]
  },
  {
   "cell_type": "code",
   "execution_count": null,
   "metadata": {},
   "outputs": [],
   "source": [
    "y_pred_feat = model_feat.predict_proba(x_test_feat)"
   ]
  },
  {
   "cell_type": "code",
   "execution_count": null,
   "metadata": {},
   "outputs": [],
   "source": [
    "predictions_feat = y_pred_feat[:,0]\n",
    "threshold = 0.5"
   ]
  },
  {
   "cell_type": "code",
   "execution_count": null,
   "metadata": {},
   "outputs": [],
   "source": [
    "mat_feat = confusion_mat(predictions=predictions_feat, y_test=y_test, threshold=threshold)"
   ]
  },
  {
   "cell_type": "code",
   "execution_count": null,
   "metadata": {},
   "outputs": [],
   "source": [
    "precision_recall(mat=mat_feat)"
   ]
  },
  {
   "cell_type": "code",
   "execution_count": null,
   "metadata": {},
   "outputs": [],
   "source": [
    "pr_curve(predictions=predictions_feat, y_test=y_test)"
   ]
  },
  {
   "cell_type": "markdown",
   "metadata": {},
   "source": [
    "## Trying out PCA"
   ]
  },
  {
   "cell_type": "code",
   "execution_count": 37,
   "metadata": {},
   "outputs": [],
   "source": [
    "pca = PCA(n_components=0.95, svd_solver='full')\n",
    "principalComponents = pca.fit_transform(x_train)"
   ]
  },
  {
   "cell_type": "code",
   "execution_count": 38,
   "metadata": {},
   "outputs": [],
   "source": [
    "rng = principalComponents.shape[1]\n",
    "col_names_pca = []\n",
    "for i in range(rng):\n",
    "    col_names_pca.append('principal_component_' + str(i))"
   ]
  },
  {
   "cell_type": "code",
   "execution_count": 39,
   "metadata": {},
   "outputs": [],
   "source": [
    "x_train_principal = pd.DataFrame(data = principalComponents, columns = col_names_pca)"
   ]
  },
  {
   "cell_type": "code",
   "execution_count": 40,
   "metadata": {},
   "outputs": [],
   "source": [
    "principalComponents_test = pca.transform(x_test)\n",
    "x_test_principal = pd.DataFrame(data = principalComponents_test, columns = col_names_pca)"
   ]
  },
  {
   "cell_type": "code",
   "execution_count": 41,
   "metadata": {},
   "outputs": [
    {
     "data": {
      "text/plain": [
       "<matplotlib.colorbar.Colorbar at 0x108e7fb70>"
      ]
     },
     "execution_count": 41,
     "metadata": {},
     "output_type": "execute_result"
    },
    {
     "data": {
      "image/png": "[encoded data removed]",
      "text/plain": [
       "<Figure size 842.4x595.44 with 2 Axes>"
      ]
     },
     "metadata": {
      "needs_background": "light"
     },
     "output_type": "display_data"
    }
   ],
   "source": [
    "a4_dims = (11.7, 8.27)\n",
    "fig, ax = plt.subplots(figsize=a4_dims)\n",
    "plt.scatter(x_train_principal['principal_component_0'], x_train_principal['principal_component_1'],\n",
    "            c=y_train['AMI_FLAG'], edgecolor='none', alpha=0.3, cmap = plt.cm.get_cmap('PiYG', 2))\n",
    "plt.xlabel('component 0')\n",
    "plt.ylabel('component 1')\n",
    "plt.colorbar()"
   ]
  },
  {
   "cell_type": "markdown",
   "metadata": {},
   "source": [
    "## Modelling on PCA"
   ]
  },
  {
   "cell_type": "code",
   "execution_count": 42,
   "metadata": {},
   "outputs": [],
   "source": [
    "model_pca = cat.CatBoostClassifier(n_estimators= 500)"
   ]
  },
  {
   "cell_type": "code",
   "execution_count": 43,
   "metadata": {},
   "outputs": [
    {
     "name": "stdout",
     "output_type": "stream",
     "text": [
      "0:\tlearn: 0.5324650\ttotal: 91.2ms\tremaining: 45.5s\n",
      "1:\tlearn: 0.4202616\ttotal: 165ms\tremaining: 41.1s\n",
      "2:\tlearn: 0.3383556\ttotal: 232ms\tremaining: 38.5s\n",
      "3:\tlearn: 0.2808250\ttotal: 323ms\tremaining: 40.1s\n",
      "4:\tlearn: 0.2392051\ttotal: 408ms\tremaining: 40.4s\n",
      "5:\tlearn: 0.2083228\ttotal: 497ms\tremaining: 40.9s\n",
      "6:\tlearn: 0.1863532\ttotal: 586ms\tremaining: 41.2s\n",
      "7:\tlearn: 0.1702960\ttotal: 649ms\tremaining: 39.9s\n",
      "8:\tlearn: 0.1579464\ttotal: 736ms\tremaining: 40.2s\n",
      "9:\tlearn: 0.1487403\ttotal: 805ms\tremaining: 39.4s\n",
      "10:\tlearn: 0.1413568\ttotal: 883ms\tremaining: 39.2s\n",
      "11:\tlearn: 0.1360910\ttotal: 937ms\tremaining: 38.1s\n",
      "12:\tlearn: 0.1318472\ttotal: 1.01s\tremaining: 37.9s\n",
      "13:\tlearn: 0.1283537\ttotal: 1.09s\tremaining: 38s\n",
      "14:\tlearn: 0.1257751\ttotal: 1.15s\tremaining: 37.3s\n",
      "15:\tlearn: 0.1237905\ttotal: 1.24s\tremaining: 37.4s\n",
      "16:\tlearn: 0.1220601\ttotal: 1.31s\tremaining: 37.3s\n",
      "17:\tlearn: 0.1206527\ttotal: 1.39s\tremaining: 37.3s\n",
      "18:\tlearn: 0.1196157\ttotal: 1.49s\tremaining: 37.7s\n",
      "19:\tlearn: 0.1187236\ttotal: 1.56s\tremaining: 37.5s\n",
      "20:\tlearn: 0.1179550\ttotal: 1.63s\tremaining: 37.1s\n",
      "21:\tlearn: 0.1172938\ttotal: 1.73s\tremaining: 37.6s\n",
      "22:\tlearn: 0.1167506\ttotal: 1.82s\tremaining: 37.8s\n",
      "23:\tlearn: 0.1161798\ttotal: 1.92s\tremaining: 38s\n",
      "24:\tlearn: 0.1157832\ttotal: 2s\tremaining: 38s\n",
      "25:\tlearn: 0.1153878\ttotal: 2.16s\tremaining: 39.4s\n",
      "26:\tlearn: 0.1150132\ttotal: 2.27s\tremaining: 39.9s\n",
      "27:\tlearn: 0.1146085\ttotal: 2.4s\tremaining: 40.5s\n",
      "28:\tlearn: 0.1142800\ttotal: 2.55s\tremaining: 41.4s\n",
      "29:\tlearn: 0.1139966\ttotal: 2.63s\tremaining: 41.2s\n",
      "30:\tlearn: 0.1136051\ttotal: 2.72s\tremaining: 41.1s\n",
      "31:\tlearn: 0.1133319\ttotal: 2.79s\tremaining: 40.9s\n",
      "32:\tlearn: 0.1131237\ttotal: 2.9s\tremaining: 41.1s\n",
      "33:\tlearn: 0.1129484\ttotal: 3.03s\tremaining: 41.5s\n",
      "34:\tlearn: 0.1127592\ttotal: 3.11s\tremaining: 41.3s\n",
      "35:\tlearn: 0.1125691\ttotal: 3.17s\tremaining: 40.8s\n",
      "36:\tlearn: 0.1122839\ttotal: 3.26s\tremaining: 40.8s\n",
      "37:\tlearn: 0.1121396\ttotal: 3.32s\tremaining: 40.4s\n",
      "38:\tlearn: 0.1118865\ttotal: 3.4s\tremaining: 40.2s\n",
      "39:\tlearn: 0.1116247\ttotal: 3.47s\tremaining: 39.9s\n",
      "40:\tlearn: 0.1114773\ttotal: 3.55s\tremaining: 39.7s\n",
      "41:\tlearn: 0.1113280\ttotal: 3.6s\tremaining: 39.3s\n",
      "42:\tlearn: 0.1111390\ttotal: 3.69s\tremaining: 39.2s\n",
      "43:\tlearn: 0.1109775\ttotal: 3.75s\tremaining: 38.8s\n",
      "44:\tlearn: 0.1107774\ttotal: 3.83s\tremaining: 38.7s\n",
      "45:\tlearn: 0.1105570\ttotal: 3.95s\tremaining: 39s\n",
      "46:\tlearn: 0.1103707\ttotal: 4.13s\tremaining: 39.8s\n",
      "47:\tlearn: 0.1102084\ttotal: 4.21s\tremaining: 39.6s\n",
      "48:\tlearn: 0.1099605\ttotal: 4.36s\tremaining: 40.1s\n",
      "49:\tlearn: 0.1097303\ttotal: 4.49s\tremaining: 40.4s\n",
      "50:\tlearn: 0.1095436\ttotal: 4.61s\tremaining: 40.5s\n",
      "51:\tlearn: 0.1093993\ttotal: 4.73s\tremaining: 40.8s\n",
      "52:\tlearn: 0.1092332\ttotal: 4.84s\tremaining: 40.9s\n",
      "53:\tlearn: 0.1090762\ttotal: 5.03s\tremaining: 41.5s\n",
      "54:\tlearn: 0.1089062\ttotal: 5.13s\tremaining: 41.5s\n",
      "55:\tlearn: 0.1087694\ttotal: 5.24s\tremaining: 41.6s\n",
      "56:\tlearn: 0.1085781\ttotal: 5.35s\tremaining: 41.6s\n",
      "57:\tlearn: 0.1084259\ttotal: 5.43s\tremaining: 41.4s\n",
      "58:\tlearn: 0.1082606\ttotal: 5.5s\tremaining: 41.2s\n",
      "59:\tlearn: 0.1080121\ttotal: 5.71s\tremaining: 41.9s\n",
      "60:\tlearn: 0.1078520\ttotal: 5.83s\tremaining: 42s\n",
      "61:\tlearn: 0.1077151\ttotal: 5.92s\tremaining: 41.8s\n",
      "62:\tlearn: 0.1075801\ttotal: 6.01s\tremaining: 41.7s\n",
      "63:\tlearn: 0.1074371\ttotal: 6.08s\tremaining: 41.5s\n",
      "64:\tlearn: 0.1073421\ttotal: 6.16s\tremaining: 41.2s\n",
      "65:\tlearn: 0.1071752\ttotal: 6.22s\tremaining: 40.9s\n",
      "66:\tlearn: 0.1069949\ttotal: 6.3s\tremaining: 40.7s\n",
      "67:\tlearn: 0.1068658\ttotal: 6.37s\tremaining: 40.5s\n",
      "68:\tlearn: 0.1067045\ttotal: 6.44s\tremaining: 40.2s\n",
      "69:\tlearn: 0.1066124\ttotal: 6.5s\tremaining: 39.9s\n",
      "70:\tlearn: 0.1064530\ttotal: 6.57s\tremaining: 39.7s\n",
      "71:\tlearn: 0.1063083\ttotal: 6.67s\tremaining: 39.6s\n",
      "72:\tlearn: 0.1061784\ttotal: 6.74s\tremaining: 39.4s\n",
      "73:\tlearn: 0.1060216\ttotal: 6.83s\tremaining: 39.3s\n",
      "74:\tlearn: 0.1059098\ttotal: 6.89s\tremaining: 39.1s\n",
      "75:\tlearn: 0.1057867\ttotal: 6.96s\tremaining: 38.8s\n",
      "76:\tlearn: 0.1056532\ttotal: 7.03s\tremaining: 38.6s\n",
      "77:\tlearn: 0.1054891\ttotal: 7.13s\tremaining: 38.6s\n",
      "78:\tlearn: 0.1053503\ttotal: 7.37s\tremaining: 39.3s\n",
      "79:\tlearn: 0.1052603\ttotal: 7.47s\tremaining: 39.2s\n",
      "80:\tlearn: 0.1051384\ttotal: 7.61s\tremaining: 39.4s\n",
      "81:\tlearn: 0.1050384\ttotal: 7.77s\tremaining: 39.6s\n",
      "82:\tlearn: 0.1049130\ttotal: 7.89s\tremaining: 39.6s\n",
      "83:\tlearn: 0.1047456\ttotal: 8.11s\tremaining: 40.1s\n",
      "84:\tlearn: 0.1045704\ttotal: 8.2s\tremaining: 40s\n",
      "85:\tlearn: 0.1044401\ttotal: 8.27s\tremaining: 39.8s\n",
      "86:\tlearn: 0.1042834\ttotal: 8.35s\tremaining: 39.7s\n",
      "87:\tlearn: 0.1041556\ttotal: 8.43s\tremaining: 39.5s\n",
      "88:\tlearn: 0.1040253\ttotal: 8.53s\tremaining: 39.4s\n",
      "89:\tlearn: 0.1039094\ttotal: 8.61s\tremaining: 39.2s\n",
      "90:\tlearn: 0.1037964\ttotal: 8.73s\tremaining: 39.2s\n",
      "91:\tlearn: 0.1036285\ttotal: 8.84s\tremaining: 39.2s\n",
      "92:\tlearn: 0.1034452\ttotal: 8.92s\tremaining: 39s\n",
      "93:\tlearn: 0.1033325\ttotal: 8.99s\tremaining: 38.8s\n",
      "94:\tlearn: 0.1032246\ttotal: 9.06s\tremaining: 38.6s\n",
      "95:\tlearn: 0.1030243\ttotal: 9.15s\tremaining: 38.5s\n",
      "96:\tlearn: 0.1028483\ttotal: 9.24s\tremaining: 38.4s\n",
      "97:\tlearn: 0.1027629\ttotal: 9.35s\tremaining: 38.3s\n",
      "98:\tlearn: 0.1025807\ttotal: 9.6s\tremaining: 38.9s\n",
      "99:\tlearn: 0.1024500\ttotal: 9.68s\tremaining: 38.7s\n",
      "100:\tlearn: 0.1022745\ttotal: 9.75s\tremaining: 38.5s\n",
      "101:\tlearn: 0.1021613\ttotal: 9.83s\tremaining: 38.4s\n",
      "102:\tlearn: 0.1020194\ttotal: 9.9s\tremaining: 38.1s\n",
      "103:\tlearn: 0.1019228\ttotal: 9.96s\tremaining: 37.9s\n",
      "104:\tlearn: 0.1017883\ttotal: 10s\tremaining: 37.7s\n",
      "105:\tlearn: 0.1017045\ttotal: 10.1s\tremaining: 37.6s\n",
      "106:\tlearn: 0.1015161\ttotal: 10.2s\tremaining: 37.4s\n",
      "107:\tlearn: 0.1013916\ttotal: 10.3s\tremaining: 37.4s\n",
      "108:\tlearn: 0.1013064\ttotal: 10.4s\tremaining: 37.4s\n",
      "109:\tlearn: 0.1011883\ttotal: 10.7s\tremaining: 38s\n",
      "110:\tlearn: 0.1010999\ttotal: 10.8s\tremaining: 38s\n",
      "111:\tlearn: 0.1009386\ttotal: 11s\tremaining: 38s\n",
      "112:\tlearn: 0.1007736\ttotal: 11.1s\tremaining: 38s\n",
      "113:\tlearn: 0.1006293\ttotal: 11.2s\tremaining: 37.8s\n",
      "114:\tlearn: 0.1005529\ttotal: 11.3s\tremaining: 37.7s\n",
      "115:\tlearn: 0.1004597\ttotal: 11.3s\tremaining: 37.5s\n",
      "116:\tlearn: 0.1003588\ttotal: 11.4s\tremaining: 37.3s\n",
      "117:\tlearn: 0.1002531\ttotal: 11.5s\tremaining: 37.1s\n",
      "118:\tlearn: 0.1001817\ttotal: 11.6s\tremaining: 37s\n",
      "119:\tlearn: 0.1000402\ttotal: 11.7s\tremaining: 37s\n",
      "120:\tlearn: 0.0998567\ttotal: 11.8s\tremaining: 36.9s\n",
      "121:\tlearn: 0.0997723\ttotal: 11.9s\tremaining: 36.7s\n",
      "122:\tlearn: 0.0996888\ttotal: 11.9s\tremaining: 36.6s\n",
      "123:\tlearn: 0.0995609\ttotal: 12s\tremaining: 36.4s\n",
      "124:\tlearn: 0.0994274\ttotal: 12.1s\tremaining: 36.3s\n",
      "125:\tlearn: 0.0992825\ttotal: 12.2s\tremaining: 36.1s\n",
      "126:\tlearn: 0.0991456\ttotal: 12.3s\tremaining: 36s\n",
      "127:\tlearn: 0.0989953\ttotal: 12.4s\tremaining: 35.9s\n",
      "128:\tlearn: 0.0988623\ttotal: 12.5s\tremaining: 36s\n",
      "129:\tlearn: 0.0987549\ttotal: 12.6s\tremaining: 35.8s\n",
      "130:\tlearn: 0.0986349\ttotal: 12.6s\tremaining: 35.6s\n",
      "131:\tlearn: 0.0985023\ttotal: 12.7s\tremaining: 35.5s\n",
      "132:\tlearn: 0.0983791\ttotal: 12.8s\tremaining: 35.3s\n",
      "133:\tlearn: 0.0982754\ttotal: 12.9s\tremaining: 35.1s\n",
      "134:\tlearn: 0.0981038\ttotal: 12.9s\tremaining: 35s\n",
      "135:\tlearn: 0.0979835\ttotal: 13s\tremaining: 34.8s\n",
      "136:\tlearn: 0.0978500\ttotal: 13.1s\tremaining: 34.7s\n",
      "137:\tlearn: 0.0977218\ttotal: 13.2s\tremaining: 34.6s\n",
      "138:\tlearn: 0.0976409\ttotal: 13.2s\tremaining: 34.4s\n",
      "139:\tlearn: 0.0975597\ttotal: 13.3s\tremaining: 34.2s\n",
      "140:\tlearn: 0.0974699\ttotal: 13.4s\tremaining: 34.1s\n",
      "141:\tlearn: 0.0973700\ttotal: 13.5s\tremaining: 34s\n",
      "142:\tlearn: 0.0972357\ttotal: 13.5s\tremaining: 33.8s\n",
      "143:\tlearn: 0.0971030\ttotal: 13.6s\tremaining: 33.7s\n",
      "144:\tlearn: 0.0969583\ttotal: 13.7s\tremaining: 33.6s\n",
      "145:\tlearn: 0.0968539\ttotal: 13.8s\tremaining: 33.4s\n",
      "146:\tlearn: 0.0967401\ttotal: 13.8s\tremaining: 33.2s\n",
      "147:\tlearn: 0.0966127\ttotal: 13.9s\tremaining: 33.1s\n",
      "148:\tlearn: 0.0964784\ttotal: 14s\tremaining: 33s\n",
      "149:\tlearn: 0.0963460\ttotal: 14.1s\tremaining: 32.9s\n",
      "150:\tlearn: 0.0962187\ttotal: 14.2s\tremaining: 32.8s\n",
      "151:\tlearn: 0.0960560\ttotal: 14.3s\tremaining: 32.7s\n",
      "152:\tlearn: 0.0959032\ttotal: 14.4s\tremaining: 32.7s\n",
      "153:\tlearn: 0.0957931\ttotal: 14.5s\tremaining: 32.6s\n",
      "154:\tlearn: 0.0957082\ttotal: 14.5s\tremaining: 32.4s\n",
      "155:\tlearn: 0.0955954\ttotal: 14.6s\tremaining: 32.3s\n",
      "156:\tlearn: 0.0954974\ttotal: 14.7s\tremaining: 32.2s\n",
      "157:\tlearn: 0.0953959\ttotal: 14.8s\tremaining: 32s\n",
      "158:\tlearn: 0.0953369\ttotal: 14.9s\tremaining: 31.9s\n",
      "159:\tlearn: 0.0952028\ttotal: 15s\tremaining: 31.8s\n",
      "160:\tlearn: 0.0950966\ttotal: 15s\tremaining: 31.6s\n",
      "161:\tlearn: 0.0949678\ttotal: 15.1s\tremaining: 31.5s\n",
      "162:\tlearn: 0.0948501\ttotal: 15.2s\tremaining: 31.4s\n",
      "163:\tlearn: 0.0947500\ttotal: 15.2s\tremaining: 31.2s\n",
      "164:\tlearn: 0.0946268\ttotal: 15.4s\tremaining: 31.3s\n",
      "165:\tlearn: 0.0944296\ttotal: 15.5s\tremaining: 31.1s\n",
      "166:\tlearn: 0.0943217\ttotal: 15.6s\tremaining: 31s\n",
      "167:\tlearn: 0.0941986\ttotal: 15.7s\tremaining: 31s\n",
      "168:\tlearn: 0.0940786\ttotal: 15.8s\tremaining: 31s\n",
      "169:\tlearn: 0.0939435\ttotal: 15.9s\tremaining: 30.9s\n",
      "170:\tlearn: 0.0937968\ttotal: 16s\tremaining: 30.8s\n",
      "171:\tlearn: 0.0937136\ttotal: 16.1s\tremaining: 30.7s\n",
      "172:\tlearn: 0.0935630\ttotal: 16.2s\tremaining: 30.6s\n",
      "173:\tlearn: 0.0934922\ttotal: 16.2s\tremaining: 30.4s\n",
      "174:\tlearn: 0.0934023\ttotal: 16.3s\tremaining: 30.3s\n",
      "175:\tlearn: 0.0933007\ttotal: 16.4s\tremaining: 30.2s\n",
      "176:\tlearn: 0.0931949\ttotal: 16.5s\tremaining: 30.1s\n",
      "177:\tlearn: 0.0930595\ttotal: 16.7s\tremaining: 30.2s\n",
      "178:\tlearn: 0.0929531\ttotal: 16.8s\tremaining: 30.1s\n",
      "179:\tlearn: 0.0928647\ttotal: 16.9s\tremaining: 30.1s\n",
      "180:\tlearn: 0.0927841\ttotal: 17.1s\tremaining: 30.2s\n",
      "181:\tlearn: 0.0926996\ttotal: 17.2s\tremaining: 30.1s\n",
      "182:\tlearn: 0.0925599\ttotal: 17.4s\tremaining: 30.1s\n",
      "183:\tlearn: 0.0924385\ttotal: 17.5s\tremaining: 30s\n",
      "184:\tlearn: 0.0923351\ttotal: 17.6s\tremaining: 29.9s\n",
      "185:\tlearn: 0.0922417\ttotal: 17.7s\tremaining: 29.9s\n",
      "186:\tlearn: 0.0921446\ttotal: 17.8s\tremaining: 29.9s\n",
      "187:\tlearn: 0.0920471\ttotal: 18s\tremaining: 29.8s\n",
      "188:\tlearn: 0.0919501\ttotal: 18.2s\tremaining: 29.9s\n",
      "189:\tlearn: 0.0918649\ttotal: 18.4s\tremaining: 30s\n",
      "190:\tlearn: 0.0917320\ttotal: 18.6s\tremaining: 30s\n",
      "191:\tlearn: 0.0916008\ttotal: 18.7s\tremaining: 30s\n",
      "192:\tlearn: 0.0914660\ttotal: 18.8s\tremaining: 29.8s\n",
      "193:\tlearn: 0.0913690\ttotal: 18.8s\tremaining: 29.7s\n",
      "194:\tlearn: 0.0912823\ttotal: 18.9s\tremaining: 29.6s\n",
      "195:\tlearn: 0.0911730\ttotal: 19.1s\tremaining: 29.6s\n",
      "196:\tlearn: 0.0910640\ttotal: 19.2s\tremaining: 29.6s\n",
      "197:\tlearn: 0.0909518\ttotal: 19.4s\tremaining: 29.5s\n",
      "198:\tlearn: 0.0908278\ttotal: 19.4s\tremaining: 29.4s\n",
      "199:\tlearn: 0.0907042\ttotal: 19.5s\tremaining: 29.3s\n",
      "200:\tlearn: 0.0905668\ttotal: 19.6s\tremaining: 29.2s\n",
      "201:\tlearn: 0.0904462\ttotal: 19.7s\tremaining: 29.1s\n",
      "202:\tlearn: 0.0903181\ttotal: 19.8s\tremaining: 29s\n",
      "203:\tlearn: 0.0902198\ttotal: 19.9s\tremaining: 28.9s\n",
      "204:\tlearn: 0.0901275\ttotal: 20s\tremaining: 28.7s\n",
      "205:\tlearn: 0.0900189\ttotal: 20.1s\tremaining: 28.6s\n",
      "206:\tlearn: 0.0898962\ttotal: 20.1s\tremaining: 28.5s\n",
      "207:\tlearn: 0.0897906\ttotal: 20.3s\tremaining: 28.4s\n",
      "208:\tlearn: 0.0896664\ttotal: 20.4s\tremaining: 28.4s\n",
      "209:\tlearn: 0.0896023\ttotal: 20.5s\tremaining: 28.3s\n",
      "210:\tlearn: 0.0895169\ttotal: 20.7s\tremaining: 28.3s\n",
      "211:\tlearn: 0.0894384\ttotal: 20.8s\tremaining: 28.2s\n",
      "212:\tlearn: 0.0893358\ttotal: 20.8s\tremaining: 28.1s\n",
      "213:\tlearn: 0.0891971\ttotal: 20.9s\tremaining: 28s\n",
      "214:\tlearn: 0.0890759\ttotal: 21s\tremaining: 27.8s\n",
      "215:\tlearn: 0.0889741\ttotal: 21.1s\tremaining: 27.7s\n",
      "216:\tlearn: 0.0888594\ttotal: 21.2s\tremaining: 27.6s\n",
      "217:\tlearn: 0.0887868\ttotal: 21.3s\tremaining: 27.5s\n",
      "218:\tlearn: 0.0887189\ttotal: 21.3s\tremaining: 27.4s\n",
      "219:\tlearn: 0.0885943\ttotal: 21.4s\tremaining: 27.3s\n",
      "220:\tlearn: 0.0885049\ttotal: 21.5s\tremaining: 27.2s\n",
      "221:\tlearn: 0.0884143\ttotal: 21.7s\tremaining: 27.2s\n",
      "222:\tlearn: 0.0882859\ttotal: 21.8s\tremaining: 27.1s\n",
      "223:\tlearn: 0.0881835\ttotal: 21.9s\tremaining: 27s\n",
      "224:\tlearn: 0.0880773\ttotal: 22.1s\tremaining: 27s\n",
      "225:\tlearn: 0.0880162\ttotal: 22.2s\tremaining: 26.9s\n",
      "226:\tlearn: 0.0879393\ttotal: 22.3s\tremaining: 26.8s\n",
      "227:\tlearn: 0.0878379\ttotal: 22.6s\tremaining: 26.9s\n",
      "228:\tlearn: 0.0877657\ttotal: 22.7s\tremaining: 26.9s\n",
      "229:\tlearn: 0.0876595\ttotal: 22.8s\tremaining: 26.8s\n",
      "230:\tlearn: 0.0875875\ttotal: 22.9s\tremaining: 26.6s\n",
      "231:\tlearn: 0.0875279\ttotal: 23s\tremaining: 26.5s\n",
      "232:\tlearn: 0.0874251\ttotal: 23.1s\tremaining: 26.5s\n",
      "233:\tlearn: 0.0873150\ttotal: 23.2s\tremaining: 26.3s\n",
      "234:\tlearn: 0.0872422\ttotal: 24s\tremaining: 27s\n",
      "235:\tlearn: 0.0871427\ttotal: 24.1s\tremaining: 26.9s\n",
      "236:\tlearn: 0.0870319\ttotal: 24.2s\tremaining: 26.8s\n",
      "237:\tlearn: 0.0869622\ttotal: 24.2s\tremaining: 26.7s\n",
      "238:\tlearn: 0.0868815\ttotal: 24.3s\tremaining: 26.6s\n",
      "239:\tlearn: 0.0868234\ttotal: 24.4s\tremaining: 26.5s\n",
      "240:\tlearn: 0.0866824\ttotal: 24.5s\tremaining: 26.3s\n",
      "241:\tlearn: 0.0865588\ttotal: 24.7s\tremaining: 26.3s\n",
      "242:\tlearn: 0.0864622\ttotal: 24.8s\tremaining: 26.2s\n",
      "243:\tlearn: 0.0863575\ttotal: 24.8s\tremaining: 26.1s\n",
      "244:\tlearn: 0.0862412\ttotal: 24.9s\tremaining: 26s\n",
      "245:\tlearn: 0.0861622\ttotal: 25.2s\tremaining: 26s\n",
      "246:\tlearn: 0.0860683\ttotal: 25.4s\tremaining: 26s\n",
      "247:\tlearn: 0.0859789\ttotal: 25.5s\tremaining: 25.9s\n",
      "248:\tlearn: 0.0858264\ttotal: 25.8s\tremaining: 26s\n",
      "249:\tlearn: 0.0857040\ttotal: 26s\tremaining: 26s\n",
      "250:\tlearn: 0.0855793\ttotal: 26.1s\tremaining: 25.9s\n",
      "251:\tlearn: 0.0854764\ttotal: 26.3s\tremaining: 25.8s\n",
      "252:\tlearn: 0.0853809\ttotal: 26.3s\tremaining: 25.7s\n",
      "253:\tlearn: 0.0852584\ttotal: 26.4s\tremaining: 25.6s\n",
      "254:\tlearn: 0.0851558\ttotal: 26.5s\tremaining: 25.4s\n",
      "255:\tlearn: 0.0850734\ttotal: 26.6s\tremaining: 25.3s\n",
      "256:\tlearn: 0.0849480\ttotal: 26.7s\tremaining: 25.2s\n",
      "257:\tlearn: 0.0848415\ttotal: 26.7s\tremaining: 25.1s\n",
      "258:\tlearn: 0.0847512\ttotal: 26.8s\tremaining: 25s\n",
      "259:\tlearn: 0.0846341\ttotal: 26.9s\tremaining: 24.8s\n",
      "260:\tlearn: 0.0845270\ttotal: 27.1s\tremaining: 24.8s\n",
      "261:\tlearn: 0.0844439\ttotal: 27.2s\tremaining: 24.7s\n",
      "262:\tlearn: 0.0843643\ttotal: 27.2s\tremaining: 24.5s\n",
      "263:\tlearn: 0.0842547\ttotal: 27.5s\tremaining: 24.6s\n",
      "264:\tlearn: 0.0841569\ttotal: 27.6s\tremaining: 24.4s\n",
      "265:\tlearn: 0.0840369\ttotal: 27.6s\tremaining: 24.3s\n",
      "266:\tlearn: 0.0839634\ttotal: 27.8s\tremaining: 24.2s\n",
      "267:\tlearn: 0.0838679\ttotal: 27.8s\tremaining: 24.1s\n",
      "268:\tlearn: 0.0837982\ttotal: 27.9s\tremaining: 23.9s\n",
      "269:\tlearn: 0.0837277\ttotal: 28s\tremaining: 23.8s\n",
      "270:\tlearn: 0.0836603\ttotal: 28.1s\tremaining: 23.8s\n",
      "271:\tlearn: 0.0835833\ttotal: 28.2s\tremaining: 23.6s\n",
      "272:\tlearn: 0.0834787\ttotal: 28.3s\tremaining: 23.5s\n",
      "273:\tlearn: 0.0833257\ttotal: 28.4s\tremaining: 23.4s\n",
      "274:\tlearn: 0.0832503\ttotal: 28.5s\tremaining: 23.3s\n",
      "275:\tlearn: 0.0831595\ttotal: 28.6s\tremaining: 23.2s\n",
      "276:\tlearn: 0.0830591\ttotal: 28.7s\tremaining: 23.1s\n",
      "277:\tlearn: 0.0828993\ttotal: 28.8s\tremaining: 23s\n",
      "278:\tlearn: 0.0828010\ttotal: 28.9s\tremaining: 22.9s\n",
      "279:\tlearn: 0.0827220\ttotal: 29s\tremaining: 22.8s\n",
      "280:\tlearn: 0.0826480\ttotal: 29.1s\tremaining: 22.7s\n",
      "281:\tlearn: 0.0825357\ttotal: 29.1s\tremaining: 22.5s\n",
      "282:\tlearn: 0.0824525\ttotal: 29.3s\tremaining: 22.4s\n",
      "283:\tlearn: 0.0823879\ttotal: 29.4s\tremaining: 22.4s\n",
      "284:\tlearn: 0.0822902\ttotal: 29.5s\tremaining: 22.2s\n",
      "285:\tlearn: 0.0822192\ttotal: 29.6s\tremaining: 22.1s\n",
      "286:\tlearn: 0.0821299\ttotal: 29.6s\tremaining: 22s\n",
      "287:\tlearn: 0.0820256\ttotal: 29.8s\tremaining: 21.9s\n",
      "288:\tlearn: 0.0819460\ttotal: 29.9s\tremaining: 21.8s\n",
      "289:\tlearn: 0.0818568\ttotal: 30s\tremaining: 21.7s\n",
      "290:\tlearn: 0.0817522\ttotal: 30.4s\tremaining: 21.9s\n",
      "291:\tlearn: 0.0816650\ttotal: 30.6s\tremaining: 21.8s\n",
      "292:\tlearn: 0.0816049\ttotal: 30.7s\tremaining: 21.7s\n",
      "293:\tlearn: 0.0814965\ttotal: 30.9s\tremaining: 21.7s\n",
      "294:\tlearn: 0.0813873\ttotal: 31.2s\tremaining: 21.7s\n",
      "295:\tlearn: 0.0813235\ttotal: 31.3s\tremaining: 21.6s\n",
      "296:\tlearn: 0.0812407\ttotal: 31.4s\tremaining: 21.5s\n",
      "297:\tlearn: 0.0811340\ttotal: 31.8s\tremaining: 21.5s\n",
      "298:\tlearn: 0.0810377\ttotal: 31.9s\tremaining: 21.4s\n",
      "299:\tlearn: 0.0809197\ttotal: 32s\tremaining: 21.3s\n",
      "300:\tlearn: 0.0808042\ttotal: 32.3s\tremaining: 21.4s\n",
      "301:\tlearn: 0.0807218\ttotal: 32.6s\tremaining: 21.4s\n",
      "302:\tlearn: 0.0806252\ttotal: 32.9s\tremaining: 21.4s\n",
      "303:\tlearn: 0.0804963\ttotal: 33.1s\tremaining: 21.3s\n",
      "304:\tlearn: 0.0803980\ttotal: 33.2s\tremaining: 21.2s\n",
      "305:\tlearn: 0.0802672\ttotal: 33.5s\tremaining: 21.3s\n",
      "306:\tlearn: 0.0801911\ttotal: 33.7s\tremaining: 21.2s\n",
      "307:\tlearn: 0.0800969\ttotal: 33.8s\tremaining: 21s\n",
      "308:\tlearn: 0.0799937\ttotal: 33.8s\tremaining: 20.9s\n",
      "309:\tlearn: 0.0798932\ttotal: 33.9s\tremaining: 20.8s\n",
      "310:\tlearn: 0.0797899\ttotal: 34s\tremaining: 20.6s\n",
      "311:\tlearn: 0.0797142\ttotal: 34s\tremaining: 20.5s\n",
      "312:\tlearn: 0.0796381\ttotal: 34.1s\tremaining: 20.4s\n",
      "313:\tlearn: 0.0795336\ttotal: 34.2s\tremaining: 20.2s\n",
      "314:\tlearn: 0.0794191\ttotal: 34.2s\tremaining: 20.1s\n",
      "315:\tlearn: 0.0793485\ttotal: 34.3s\tremaining: 20s\n",
      "316:\tlearn: 0.0792793\ttotal: 34.4s\tremaining: 19.8s\n",
      "317:\tlearn: 0.0792325\ttotal: 34.4s\tremaining: 19.7s\n",
      "318:\tlearn: 0.0791291\ttotal: 34.5s\tremaining: 19.6s\n",
      "319:\tlearn: 0.0790585\ttotal: 34.6s\tremaining: 19.4s\n",
      "320:\tlearn: 0.0789359\ttotal: 34.6s\tremaining: 19.3s\n",
      "321:\tlearn: 0.0788234\ttotal: 34.7s\tremaining: 19.2s\n",
      "322:\tlearn: 0.0787616\ttotal: 34.8s\tremaining: 19s\n",
      "323:\tlearn: 0.0786569\ttotal: 34.9s\tremaining: 18.9s\n",
      "324:\tlearn: 0.0785562\ttotal: 35s\tremaining: 18.8s\n",
      "325:\tlearn: 0.0784548\ttotal: 35.1s\tremaining: 18.7s\n",
      "326:\tlearn: 0.0783707\ttotal: 35.2s\tremaining: 18.6s\n",
      "327:\tlearn: 0.0782886\ttotal: 35.3s\tremaining: 18.5s\n",
      "328:\tlearn: 0.0781638\ttotal: 35.4s\tremaining: 18.4s\n",
      "329:\tlearn: 0.0780953\ttotal: 35.5s\tremaining: 18.3s\n",
      "330:\tlearn: 0.0780232\ttotal: 35.6s\tremaining: 18.2s\n",
      "331:\tlearn: 0.0779336\ttotal: 35.6s\tremaining: 18s\n",
      "332:\tlearn: 0.0777739\ttotal: 35.7s\tremaining: 17.9s\n",
      "333:\tlearn: 0.0776810\ttotal: 35.8s\tremaining: 17.8s\n",
      "334:\tlearn: 0.0775659\ttotal: 35.9s\tremaining: 17.7s\n",
      "335:\tlearn: 0.0775155\ttotal: 35.9s\tremaining: 17.5s\n",
      "336:\tlearn: 0.0774326\ttotal: 36s\tremaining: 17.4s\n",
      "337:\tlearn: 0.0773443\ttotal: 36s\tremaining: 17.3s\n",
      "338:\tlearn: 0.0772601\ttotal: 36.1s\tremaining: 17.2s\n",
      "339:\tlearn: 0.0772005\ttotal: 36.2s\tremaining: 17s\n",
      "340:\tlearn: 0.0770981\ttotal: 36.3s\tremaining: 16.9s\n",
      "341:\tlearn: 0.0769938\ttotal: 36.4s\tremaining: 16.8s\n",
      "342:\tlearn: 0.0769135\ttotal: 36.4s\tremaining: 16.7s\n",
      "343:\tlearn: 0.0768083\ttotal: 36.5s\tremaining: 16.6s\n",
      "344:\tlearn: 0.0767743\ttotal: 36.6s\tremaining: 16.4s\n",
      "345:\tlearn: 0.0766700\ttotal: 36.6s\tremaining: 16.3s\n",
      "346:\tlearn: 0.0765742\ttotal: 36.7s\tremaining: 16.2s\n",
      "347:\tlearn: 0.0764825\ttotal: 36.8s\tremaining: 16.1s\n",
      "348:\tlearn: 0.0763813\ttotal: 36.9s\tremaining: 15.9s\n",
      "349:\tlearn: 0.0763322\ttotal: 36.9s\tremaining: 15.8s\n",
      "350:\tlearn: 0.0762626\ttotal: 37s\tremaining: 15.7s\n",
      "351:\tlearn: 0.0762177\ttotal: 37.1s\tremaining: 15.6s\n",
      "352:\tlearn: 0.0761078\ttotal: 37.2s\tremaining: 15.5s\n",
      "353:\tlearn: 0.0760164\ttotal: 37.3s\tremaining: 15.4s\n",
      "354:\tlearn: 0.0758967\ttotal: 37.5s\tremaining: 15.3s\n",
      "355:\tlearn: 0.0758170\ttotal: 37.6s\tremaining: 15.2s\n",
      "356:\tlearn: 0.0757312\ttotal: 37.7s\tremaining: 15.1s\n",
      "357:\tlearn: 0.0756543\ttotal: 37.8s\tremaining: 15s\n",
      "358:\tlearn: 0.0755567\ttotal: 37.9s\tremaining: 14.9s\n",
      "359:\tlearn: 0.0754391\ttotal: 37.9s\tremaining: 14.8s\n",
      "360:\tlearn: 0.0753639\ttotal: 38s\tremaining: 14.6s\n",
      "361:\tlearn: 0.0753114\ttotal: 38.1s\tremaining: 14.5s\n",
      "362:\tlearn: 0.0752212\ttotal: 38.1s\tremaining: 14.4s\n",
      "363:\tlearn: 0.0751238\ttotal: 38.2s\tremaining: 14.3s\n",
      "364:\tlearn: 0.0750100\ttotal: 38.3s\tremaining: 14.2s\n",
      "365:\tlearn: 0.0749473\ttotal: 38.3s\tremaining: 14s\n",
      "366:\tlearn: 0.0748510\ttotal: 38.4s\tremaining: 13.9s\n",
      "367:\tlearn: 0.0747690\ttotal: 38.5s\tremaining: 13.8s\n",
      "368:\tlearn: 0.0747161\ttotal: 38.6s\tremaining: 13.7s\n",
      "369:\tlearn: 0.0746124\ttotal: 38.6s\tremaining: 13.6s\n",
      "370:\tlearn: 0.0745420\ttotal: 38.7s\tremaining: 13.5s\n",
      "371:\tlearn: 0.0744705\ttotal: 38.8s\tremaining: 13.3s\n",
      "372:\tlearn: 0.0743707\ttotal: 38.8s\tremaining: 13.2s\n",
      "373:\tlearn: 0.0743141\ttotal: 38.9s\tremaining: 13.1s\n",
      "374:\tlearn: 0.0742424\ttotal: 39s\tremaining: 13s\n",
      "375:\tlearn: 0.0741579\ttotal: 39.1s\tremaining: 12.9s\n",
      "376:\tlearn: 0.0740848\ttotal: 39.2s\tremaining: 12.8s\n",
      "377:\tlearn: 0.0740187\ttotal: 39.3s\tremaining: 12.7s\n",
      "378:\tlearn: 0.0739620\ttotal: 39.4s\tremaining: 12.6s\n",
      "379:\tlearn: 0.0738685\ttotal: 39.5s\tremaining: 12.5s\n",
      "380:\tlearn: 0.0738073\ttotal: 39.6s\tremaining: 12.4s\n",
      "381:\tlearn: 0.0737414\ttotal: 39.7s\tremaining: 12.3s\n",
      "382:\tlearn: 0.0736564\ttotal: 39.8s\tremaining: 12.2s\n",
      "383:\tlearn: 0.0735914\ttotal: 39.9s\tremaining: 12s\n",
      "384:\tlearn: 0.0734961\ttotal: 40s\tremaining: 11.9s\n",
      "385:\tlearn: 0.0734542\ttotal: 40s\tremaining: 11.8s\n",
      "386:\tlearn: 0.0734057\ttotal: 40.1s\tremaining: 11.7s\n",
      "387:\tlearn: 0.0733134\ttotal: 40.2s\tremaining: 11.6s\n",
      "388:\tlearn: 0.0732211\ttotal: 40.3s\tremaining: 11.5s\n",
      "389:\tlearn: 0.0731658\ttotal: 40.3s\tremaining: 11.4s\n",
      "390:\tlearn: 0.0731050\ttotal: 40.4s\tremaining: 11.3s\n",
      "391:\tlearn: 0.0730547\ttotal: 40.4s\tremaining: 11.1s\n",
      "392:\tlearn: 0.0729560\ttotal: 40.5s\tremaining: 11s\n",
      "393:\tlearn: 0.0728989\ttotal: 40.6s\tremaining: 10.9s\n",
      "394:\tlearn: 0.0728005\ttotal: 40.7s\tremaining: 10.8s\n",
      "395:\tlearn: 0.0727371\ttotal: 40.7s\tremaining: 10.7s\n",
      "396:\tlearn: 0.0726491\ttotal: 40.8s\tremaining: 10.6s\n",
      "397:\tlearn: 0.0725809\ttotal: 40.9s\tremaining: 10.5s\n",
      "398:\tlearn: 0.0724868\ttotal: 40.9s\tremaining: 10.4s\n",
      "399:\tlearn: 0.0724129\ttotal: 41s\tremaining: 10.2s\n",
      "400:\tlearn: 0.0723630\ttotal: 41.1s\tremaining: 10.1s\n",
      "401:\tlearn: 0.0722845\ttotal: 41.1s\tremaining: 10s\n",
      "402:\tlearn: 0.0722356\ttotal: 41.2s\tremaining: 9.91s\n",
      "403:\tlearn: 0.0721818\ttotal: 41.2s\tremaining: 9.8s\n",
      "404:\tlearn: 0.0720802\ttotal: 41.3s\tremaining: 9.69s\n",
      "405:\tlearn: 0.0720004\ttotal: 41.4s\tremaining: 9.58s\n",
      "406:\tlearn: 0.0719173\ttotal: 41.4s\tremaining: 9.47s\n",
      "407:\tlearn: 0.0718395\ttotal: 41.5s\tremaining: 9.36s\n",
      "408:\tlearn: 0.0717683\ttotal: 41.6s\tremaining: 9.26s\n",
      "409:\tlearn: 0.0717256\ttotal: 41.6s\tremaining: 9.14s\n",
      "410:\tlearn: 0.0716364\ttotal: 41.7s\tremaining: 9.03s\n",
      "411:\tlearn: 0.0715502\ttotal: 41.8s\tremaining: 8.93s\n",
      "412:\tlearn: 0.0714940\ttotal: 41.9s\tremaining: 8.82s\n",
      "413:\tlearn: 0.0714173\ttotal: 41.9s\tremaining: 8.71s\n",
      "414:\tlearn: 0.0713237\ttotal: 42s\tremaining: 8.6s\n",
      "415:\tlearn: 0.0712218\ttotal: 42.1s\tremaining: 8.49s\n",
      "416:\tlearn: 0.0711425\ttotal: 42.1s\tremaining: 8.39s\n",
      "417:\tlearn: 0.0710657\ttotal: 42.2s\tremaining: 8.28s\n",
      "418:\tlearn: 0.0709495\ttotal: 42.3s\tremaining: 8.17s\n",
      "419:\tlearn: 0.0708727\ttotal: 42.3s\tremaining: 8.06s\n",
      "420:\tlearn: 0.0707985\ttotal: 42.4s\tremaining: 7.95s\n",
      "421:\tlearn: 0.0707088\ttotal: 42.5s\tremaining: 7.85s\n",
      "422:\tlearn: 0.0706258\ttotal: 42.5s\tremaining: 7.74s\n",
      "423:\tlearn: 0.0705325\ttotal: 42.7s\tremaining: 7.65s\n",
      "424:\tlearn: 0.0704623\ttotal: 42.8s\tremaining: 7.54s\n",
      "425:\tlearn: 0.0703642\ttotal: 42.9s\tremaining: 7.45s\n",
      "426:\tlearn: 0.0702578\ttotal: 43s\tremaining: 7.35s\n",
      "427:\tlearn: 0.0702072\ttotal: 43.1s\tremaining: 7.25s\n",
      "428:\tlearn: 0.0701390\ttotal: 43.2s\tremaining: 7.14s\n",
      "429:\tlearn: 0.0700536\ttotal: 43.3s\tremaining: 7.04s\n",
      "430:\tlearn: 0.0699832\ttotal: 43.4s\tremaining: 6.94s\n",
      "431:\tlearn: 0.0699184\ttotal: 43.4s\tremaining: 6.84s\n",
      "432:\tlearn: 0.0697935\ttotal: 43.5s\tremaining: 6.73s\n",
      "433:\tlearn: 0.0697149\ttotal: 43.6s\tremaining: 6.63s\n",
      "434:\tlearn: 0.0695895\ttotal: 43.7s\tremaining: 6.53s\n",
      "435:\tlearn: 0.0694817\ttotal: 43.8s\tremaining: 6.42s\n",
      "436:\tlearn: 0.0694310\ttotal: 43.8s\tremaining: 6.32s\n",
      "437:\tlearn: 0.0693639\ttotal: 43.9s\tremaining: 6.21s\n",
      "438:\tlearn: 0.0692771\ttotal: 44s\tremaining: 6.11s\n",
      "439:\tlearn: 0.0692213\ttotal: 44.1s\tremaining: 6.01s\n",
      "440:\tlearn: 0.0691827\ttotal: 44.2s\tremaining: 5.91s\n",
      "441:\tlearn: 0.0690762\ttotal: 44.3s\tremaining: 5.82s\n",
      "442:\tlearn: 0.0690188\ttotal: 44.4s\tremaining: 5.72s\n",
      "443:\tlearn: 0.0689306\ttotal: 44.5s\tremaining: 5.62s\n",
      "444:\tlearn: 0.0688096\ttotal: 44.6s\tremaining: 5.52s\n",
      "445:\tlearn: 0.0687085\ttotal: 44.7s\tremaining: 5.42s\n",
      "446:\tlearn: 0.0686113\ttotal: 44.8s\tremaining: 5.31s\n",
      "447:\tlearn: 0.0685010\ttotal: 44.9s\tremaining: 5.21s\n",
      "448:\tlearn: 0.0683768\ttotal: 45s\tremaining: 5.11s\n",
      "449:\tlearn: 0.0682893\ttotal: 45s\tremaining: 5s\n",
      "450:\tlearn: 0.0682198\ttotal: 45.1s\tremaining: 4.9s\n",
      "451:\tlearn: 0.0681315\ttotal: 45.2s\tremaining: 4.8s\n",
      "452:\tlearn: 0.0680208\ttotal: 45.2s\tremaining: 4.69s\n",
      "453:\tlearn: 0.0679417\ttotal: 45.3s\tremaining: 4.59s\n",
      "454:\tlearn: 0.0678630\ttotal: 45.4s\tremaining: 4.49s\n",
      "455:\tlearn: 0.0677885\ttotal: 45.5s\tremaining: 4.39s\n",
      "456:\tlearn: 0.0676874\ttotal: 45.6s\tremaining: 4.29s\n",
      "457:\tlearn: 0.0676058\ttotal: 45.7s\tremaining: 4.19s\n",
      "458:\tlearn: 0.0675259\ttotal: 45.8s\tremaining: 4.09s\n",
      "459:\tlearn: 0.0673893\ttotal: 45.9s\tremaining: 3.99s\n",
      "460:\tlearn: 0.0672844\ttotal: 46s\tremaining: 3.89s\n",
      "461:\tlearn: 0.0672124\ttotal: 46.1s\tremaining: 3.79s\n",
      "462:\tlearn: 0.0671476\ttotal: 46.3s\tremaining: 3.7s\n",
      "463:\tlearn: 0.0671006\ttotal: 46.4s\tremaining: 3.6s\n",
      "464:\tlearn: 0.0670223\ttotal: 46.5s\tremaining: 3.5s\n",
      "465:\tlearn: 0.0669598\ttotal: 46.5s\tremaining: 3.4s\n",
      "466:\tlearn: 0.0668731\ttotal: 46.6s\tremaining: 3.29s\n",
      "467:\tlearn: 0.0668268\ttotal: 46.7s\tremaining: 3.19s\n",
      "468:\tlearn: 0.0667650\ttotal: 46.7s\tremaining: 3.09s\n",
      "469:\tlearn: 0.0666632\ttotal: 46.8s\tremaining: 2.99s\n",
      "470:\tlearn: 0.0665845\ttotal: 46.9s\tremaining: 2.89s\n",
      "471:\tlearn: 0.0665051\ttotal: 47s\tremaining: 2.79s\n",
      "472:\tlearn: 0.0664362\ttotal: 47s\tremaining: 2.68s\n",
      "473:\tlearn: 0.0663507\ttotal: 47.1s\tremaining: 2.58s\n",
      "474:\tlearn: 0.0662457\ttotal: 47.2s\tremaining: 2.48s\n",
      "475:\tlearn: 0.0661793\ttotal: 47.3s\tremaining: 2.38s\n",
      "476:\tlearn: 0.0661412\ttotal: 47.3s\tremaining: 2.28s\n",
      "477:\tlearn: 0.0660975\ttotal: 47.4s\tremaining: 2.18s\n",
      "478:\tlearn: 0.0659801\ttotal: 47.5s\tremaining: 2.08s\n",
      "479:\tlearn: 0.0659156\ttotal: 47.6s\tremaining: 1.98s\n",
      "480:\tlearn: 0.0658239\ttotal: 47.6s\tremaining: 1.88s\n",
      "481:\tlearn: 0.0657445\ttotal: 47.7s\tremaining: 1.78s\n",
      "482:\tlearn: 0.0656414\ttotal: 47.8s\tremaining: 1.68s\n",
      "483:\tlearn: 0.0655755\ttotal: 47.8s\tremaining: 1.58s\n",
      "484:\tlearn: 0.0655159\ttotal: 47.9s\tremaining: 1.48s\n",
      "485:\tlearn: 0.0654484\ttotal: 48s\tremaining: 1.38s\n",
      "486:\tlearn: 0.0653564\ttotal: 48.1s\tremaining: 1.28s\n",
      "487:\tlearn: 0.0653177\ttotal: 48.2s\tremaining: 1.18s\n",
      "488:\tlearn: 0.0652586\ttotal: 48.3s\tremaining: 1.08s\n",
      "489:\tlearn: 0.0651941\ttotal: 48.4s\tremaining: 987ms\n",
      "490:\tlearn: 0.0651217\ttotal: 48.5s\tremaining: 889ms\n",
      "491:\tlearn: 0.0650475\ttotal: 48.6s\tremaining: 790ms\n",
      "492:\tlearn: 0.0649736\ttotal: 48.7s\tremaining: 692ms\n",
      "493:\tlearn: 0.0649328\ttotal: 48.8s\tremaining: 593ms\n",
      "494:\tlearn: 0.0648474\ttotal: 48.9s\tremaining: 494ms\n",
      "495:\tlearn: 0.0647917\ttotal: 49s\tremaining: 395ms\n",
      "496:\tlearn: 0.0647104\ttotal: 49s\tremaining: 296ms\n",
      "497:\tlearn: 0.0645855\ttotal: 49.1s\tremaining: 197ms\n",
      "498:\tlearn: 0.0644957\ttotal: 49.2s\tremaining: 98.6ms\n",
      "499:\tlearn: 0.0644151\ttotal: 49.3s\tremaining: 0us\n"
     ]
    },
    {
     "data": {
      "text/plain": [
       "<catboost.core.CatBoostClassifier at 0x10af423c8>"
      ]
     },
     "execution_count": 43,
     "metadata": {},
     "output_type": "execute_result"
    }
   ],
   "source": [
    "model_pca.fit(x_train_principal, y_train)"
   ]
  },
  {
   "cell_type": "code",
   "execution_count": 44,
   "metadata": {},
   "outputs": [],
   "source": [
    "y_pred_pca = model_pca.predict_proba(x_test_principal)"
   ]
  },
  {
   "cell_type": "code",
   "execution_count": 45,
   "metadata": {},
   "outputs": [],
   "source": [
    "predictions_pca = y_pred_pca[:,0]\n",
    "threshold = 0.5"
   ]
  },
  {
   "cell_type": "code",
   "execution_count": 46,
   "metadata": {},
   "outputs": [
    {
     "data": {
      "image/png": "[encoded data removed]",
      "text/plain": [
       "<Figure size 432x288 with 1 Axes>"
      ]
     },
     "metadata": {
      "needs_background": "light"
     },
     "output_type": "display_data"
    }
   ],
   "source": [
    "mat_pca = confusion_mat(predictions=predictions_pca, y_test=y_test, threshold = threshold)"
   ]
  },
  {
   "cell_type": "code",
   "execution_count": 47,
   "metadata": {},
   "outputs": [
    {
     "name": "stdout",
     "output_type": "stream",
     "text": [
      "precision: 0.33, recall: 0.007\n"
     ]
    },
    {
     "data": {
      "text/plain": [
       "0"
      ]
     },
     "execution_count": 47,
     "metadata": {},
     "output_type": "execute_result"
    }
   ],
   "source": [
    "precision_recall(mat)"
   ]
  },
  {
   "cell_type": "code",
   "execution_count": 49,
   "metadata": {},
   "outputs": [
    {
     "ename": "NameError",
     "evalue": "name 'predictions_pca' is not defined",
     "output_type": "error",
     "traceback": [
      "\u001b[0;31m---------------------------------------------------------------------------\u001b[0m",
      "\u001b[0;31mNameError\u001b[0m                                 Traceback (most recent call last)",
      "\u001b[0;32m<ipython-input-49-fac415368a6d>\u001b[0m in \u001b[0;36m<module>\u001b[0;34m()\u001b[0m\n\u001b[1;32m      2\u001b[0m \u001b[0mfig\u001b[0m\u001b[0;34m,\u001b[0m \u001b[0max\u001b[0m \u001b[0;34m=\u001b[0m \u001b[0mplt\u001b[0m\u001b[0;34m.\u001b[0m\u001b[0msubplots\u001b[0m\u001b[0;34m(\u001b[0m\u001b[0mfigsize\u001b[0m\u001b[0;34m=\u001b[0m\u001b[0ma4_dims\u001b[0m\u001b[0;34m)\u001b[0m\u001b[0;34m\u001b[0m\u001b[0m\n\u001b[1;32m      3\u001b[0m \u001b[0;34m\u001b[0m\u001b[0m\n\u001b[0;32m----> 4\u001b[0;31m \u001b[0mpr_curve\u001b[0m\u001b[0;34m(\u001b[0m\u001b[0mpredictions\u001b[0m\u001b[0;34m=\u001b[0m\u001b[0mpredictions_pca\u001b[0m\u001b[0;34m,\u001b[0m \u001b[0my_test\u001b[0m\u001b[0;34m=\u001b[0m\u001b[0my_test\u001b[0m\u001b[0;34m)\u001b[0m\u001b[0;34m\u001b[0m\u001b[0m\n\u001b[0m",
      "\u001b[0;31mNameError\u001b[0m: name 'predictions_pca' is not defined"
     ]
    },
    {
     "data": {
      "image/png": "[encoded data removed]",
      "text/plain": [
       "<Figure size 842.4x595.44 with 1 Axes>"
      ]
     },
     "metadata": {
      "needs_background": "light"
     },
     "output_type": "display_data"
    }
   ],
   "source": [
    "pr_curve(predictions=predictions_pca, y_test=y_test)"
   ]
  },
  {
   "cell_type": "markdown",
   "metadata": {},
   "source": [
    "## Trial for Neural Networks"
   ]
  },
  {
   "cell_type": "code",
   "execution_count": null,
   "metadata": {},
   "outputs": [],
   "source": [
    "# define vars\n",
    "input_num_units = x_train.shape[1]\n",
    "hidden1_num_units = 256\n",
    "hidden2_num_units = 128\n",
    "hidden3_num_units = 64\n",
    "hidden4_num_units = 64\n",
    "hidden5_num_units = 128\n",
    "hidden6_num_units = 64\n",
    "hidden7_num_units = 32\n",
    "output_num_units = 1\n",
    "\n",
    "epochs = 100\n",
    "batch_size = 32\n",
    "\n",
    "dropout_ratio = 0.2"
   ]
  },
  {
   "cell_type": "code",
   "execution_count": null,
   "metadata": {},
   "outputs": [],
   "source": [
    "classifier = Sequential()\n",
    "classifier.add(Dense(units = hidden1_num_units, activation = 'relu', input_dim = input_num_units))\n",
    "classifier.add(Dropout(dropout_ratio))\n",
    "classifier.add(Dense(units = hidden2_num_units, activation = 'relu'))\n",
    "classifier.add(Dropout(dropout_ratio))\n",
    "classifier.add(Dense(units = hidden3_num_units, activation = 'relu'))\n",
    "classifier.add(Dropout(dropout_ratio))\n",
    "classifier.add(Dense(units = hidden4_num_units, activation = 'relu'))\n",
    "classifier.add(Dropout(dropout_ratio))\n",
    "classifier.add(Dense(units = hidden5_num_units, activation = 'relu'))\n",
    "classifier.add(Dropout(dropout_ratio))\n",
    "classifier.add(Dense(units = hidden6_num_units, activation = 'relu'))\n",
    "classifier.add(Dropout(dropout_ratio))\n",
    "classifier.add(Dense(units = hidden7_num_units, activation = 'relu'))\n",
    "classifier.add(Dropout(dropout_ratio))\n",
    "classifier.add(Dense(units = output_num_units, activation = 'sigmoid'))\n",
    "optimizer = Adam(lr=0.001, decay=1e-5)\n",
    "classifier.compile(optimizer = 'adam', loss = 'binary_crossentropy', metrics = ['accuracy', auc_pr])"
   ]
  },
  {
   "cell_type": "code",
   "execution_count": null,
   "metadata": {},
   "outputs": [],
   "source": [
    "classifier.summary()"
   ]
  },
  {
   "cell_type": "code",
   "execution_count": null,
   "metadata": {},
   "outputs": [],
   "source": [
    "classifier.fit(x_train, y_train, validation_data=(x_test, y_test), batch_size = batch_size, epochs=epochs)"
   ]
  },
  {
   "cell_type": "code",
   "execution_count": null,
   "metadata": {},
   "outputs": [],
   "source": [
    "y_pred_nn = classifier.predict_proba(x_test)"
   ]
  },
  {
   "cell_type": "code",
   "execution_count": null,
   "metadata": {},
   "outputs": [],
   "source": [
    "predictions_nn = 1 - y_pred_nn\n",
    "threshold = 0.5"
   ]
  },
  {
   "cell_type": "code",
   "execution_count": null,
   "metadata": {},
   "outputs": [],
   "source": [
    "mat_nn = confusion_mat(predictions=predictions_nn, y_test=y_test, threshold = threshold)"
   ]
  },
  {
   "cell_type": "code",
   "execution_count": null,
   "metadata": {},
   "outputs": [],
   "source": [
    "precision_recall(mat_nn)"
   ]
  },
  {
   "cell_type": "code",
   "execution_count": null,
   "metadata": {},
   "outputs": [],
   "source": [
    "pr_curve(predictions=predictions_nn, y_test=y_test)"
   ]
  },
  {
   "cell_type": "code",
   "execution_count": null,
   "metadata": {},
   "outputs": [],
   "source": [
    "roc(predictions_nn, y_test)"
   ]
  },
  {
   "cell_type": "markdown",
   "metadata": {},
   "source": [
    "## HyperEnsemble"
   ]
  },
  {
   "cell_type": "code",
   "execution_count": 87,
   "metadata": {},
   "outputs": [],
   "source": [
    "number_of_models = int(y_train['AMI_FLAG'].value_counts()[0]/y_train['AMI_FLAG'].value_counts()[1])\n",
    "samples_in_model = y_train['AMI_FLAG'].value_counts()[1]\n",
    "# get indexes\n",
    "zeros_index = y_train[y_train['AMI_FLAG'] == 0].index\n",
    "zeros_index = np.array(zeros_index)\n",
    "random.shuffle(zeros_index)"
   ]
  },
  {
   "cell_type": "code",
   "execution_count": 88,
   "metadata": {},
   "outputs": [
    {
     "name": "stderr",
     "output_type": "stream",
     "text": [
      "/anaconda3/envs/coms007/lib/python3.6/site-packages/sklearn/preprocessing/label.py:95: DataConversionWarning: A column-vector y was passed when a 1d array was expected. Please change the shape of y to (n_samples, ), for example using ravel().\n",
      "  y = column_or_1d(y, warn=True)\n",
      "/anaconda3/envs/coms007/lib/python3.6/site-packages/sklearn/preprocessing/label.py:128: DataConversionWarning: A column-vector y was passed when a 1d array was expected. Please change the shape of y to (n_samples, ), for example using ravel().\n",
      "  y = column_or_1d(y, warn=True)\n",
      "/anaconda3/envs/coms007/lib/python3.6/site-packages/sklearn/preprocessing/label.py:95: DataConversionWarning: A column-vector y was passed when a 1d array was expected. Please change the shape of y to (n_samples, ), for example using ravel().\n",
      "  y = column_or_1d(y, warn=True)\n",
      "/anaconda3/envs/coms007/lib/python3.6/site-packages/sklearn/preprocessing/label.py:128: DataConversionWarning: A column-vector y was passed when a 1d array was expected. Please change the shape of y to (n_samples, ), for example using ravel().\n",
      "  y = column_or_1d(y, warn=True)\n",
      "/anaconda3/envs/coms007/lib/python3.6/site-packages/sklearn/preprocessing/label.py:95: DataConversionWarning: A column-vector y was passed when a 1d array was expected. Please change the shape of y to (n_samples, ), for example using ravel().\n",
      "  y = column_or_1d(y, warn=True)\n",
      "/anaconda3/envs/coms007/lib/python3.6/site-packages/sklearn/preprocessing/label.py:128: DataConversionWarning: A column-vector y was passed when a 1d array was expected. Please change the shape of y to (n_samples, ), for example using ravel().\n",
      "  y = column_or_1d(y, warn=True)\n",
      "/anaconda3/envs/coms007/lib/python3.6/site-packages/sklearn/preprocessing/label.py:95: DataConversionWarning: A column-vector y was passed when a 1d array was expected. Please change the shape of y to (n_samples, ), for example using ravel().\n",
      "  y = column_or_1d(y, warn=True)\n",
      "/anaconda3/envs/coms007/lib/python3.6/site-packages/sklearn/preprocessing/label.py:128: DataConversionWarning: A column-vector y was passed when a 1d array was expected. Please change the shape of y to (n_samples, ), for example using ravel().\n",
      "  y = column_or_1d(y, warn=True)\n",
      "/anaconda3/envs/coms007/lib/python3.6/site-packages/sklearn/preprocessing/label.py:95: DataConversionWarning: A column-vector y was passed when a 1d array was expected. Please change the shape of y to (n_samples, ), for example using ravel().\n",
      "  y = column_or_1d(y, warn=True)\n",
      "/anaconda3/envs/coms007/lib/python3.6/site-packages/sklearn/preprocessing/label.py:128: DataConversionWarning: A column-vector y was passed when a 1d array was expected. Please change the shape of y to (n_samples, ), for example using ravel().\n",
      "  y = column_or_1d(y, warn=True)\n",
      "/anaconda3/envs/coms007/lib/python3.6/site-packages/sklearn/preprocessing/label.py:95: DataConversionWarning: A column-vector y was passed when a 1d array was expected. Please change the shape of y to (n_samples, ), for example using ravel().\n",
      "  y = column_or_1d(y, warn=True)\n",
      "/anaconda3/envs/coms007/lib/python3.6/site-packages/sklearn/preprocessing/label.py:128: DataConversionWarning: A column-vector y was passed when a 1d array was expected. Please change the shape of y to (n_samples, ), for example using ravel().\n",
      "  y = column_or_1d(y, warn=True)\n",
      "/anaconda3/envs/coms007/lib/python3.6/site-packages/sklearn/preprocessing/label.py:95: DataConversionWarning: A column-vector y was passed when a 1d array was expected. Please change the shape of y to (n_samples, ), for example using ravel().\n",
      "  y = column_or_1d(y, warn=True)\n",
      "/anaconda3/envs/coms007/lib/python3.6/site-packages/sklearn/preprocessing/label.py:128: DataConversionWarning: A column-vector y was passed when a 1d array was expected. Please change the shape of y to (n_samples, ), for example using ravel().\n",
      "  y = column_or_1d(y, warn=True)\n",
      "/anaconda3/envs/coms007/lib/python3.6/site-packages/sklearn/preprocessing/label.py:95: DataConversionWarning: A column-vector y was passed when a 1d array was expected. Please change the shape of y to (n_samples, ), for example using ravel().\n",
      "  y = column_or_1d(y, warn=True)\n",
      "/anaconda3/envs/coms007/lib/python3.6/site-packages/sklearn/preprocessing/label.py:128: DataConversionWarning: A column-vector y was passed when a 1d array was expected. Please change the shape of y to (n_samples, ), for example using ravel().\n",
      "  y = column_or_1d(y, warn=True)\n",
      "/anaconda3/envs/coms007/lib/python3.6/site-packages/sklearn/preprocessing/label.py:95: DataConversionWarning: A column-vector y was passed when a 1d array was expected. Please change the shape of y to (n_samples, ), for example using ravel().\n",
      "  y = column_or_1d(y, warn=True)\n",
      "/anaconda3/envs/coms007/lib/python3.6/site-packages/sklearn/preprocessing/label.py:128: DataConversionWarning: A column-vector y was passed when a 1d array was expected. Please change the shape of y to (n_samples, ), for example using ravel().\n",
      "  y = column_or_1d(y, warn=True)\n",
      "/anaconda3/envs/coms007/lib/python3.6/site-packages/sklearn/preprocessing/label.py:95: DataConversionWarning: A column-vector y was passed when a 1d array was expected. Please change the shape of y to (n_samples, ), for example using ravel().\n",
      "  y = column_or_1d(y, warn=True)\n",
      "/anaconda3/envs/coms007/lib/python3.6/site-packages/sklearn/preprocessing/label.py:128: DataConversionWarning: A column-vector y was passed when a 1d array was expected. Please change the shape of y to (n_samples, ), for example using ravel().\n",
      "  y = column_or_1d(y, warn=True)\n",
      "/anaconda3/envs/coms007/lib/python3.6/site-packages/sklearn/preprocessing/label.py:95: DataConversionWarning: A column-vector y was passed when a 1d array was expected. Please change the shape of y to (n_samples, ), for example using ravel().\n",
      "  y = column_or_1d(y, warn=True)\n",
      "/anaconda3/envs/coms007/lib/python3.6/site-packages/sklearn/preprocessing/label.py:128: DataConversionWarning: A column-vector y was passed when a 1d array was expected. Please change the shape of y to (n_samples, ), for example using ravel().\n",
      "  y = column_or_1d(y, warn=True)\n",
      "/anaconda3/envs/coms007/lib/python3.6/site-packages/sklearn/preprocessing/label.py:95: DataConversionWarning: A column-vector y was passed when a 1d array was expected. Please change the shape of y to (n_samples, ), for example using ravel().\n",
      "  y = column_or_1d(y, warn=True)\n",
      "/anaconda3/envs/coms007/lib/python3.6/site-packages/sklearn/preprocessing/label.py:128: DataConversionWarning: A column-vector y was passed when a 1d array was expected. Please change the shape of y to (n_samples, ), for example using ravel().\n",
      "  y = column_or_1d(y, warn=True)\n",
      "/anaconda3/envs/coms007/lib/python3.6/site-packages/sklearn/preprocessing/label.py:95: DataConversionWarning: A column-vector y was passed when a 1d array was expected. Please change the shape of y to (n_samples, ), for example using ravel().\n",
      "  y = column_or_1d(y, warn=True)\n",
      "/anaconda3/envs/coms007/lib/python3.6/site-packages/sklearn/preprocessing/label.py:128: DataConversionWarning: A column-vector y was passed when a 1d array was expected. Please change the shape of y to (n_samples, ), for example using ravel().\n",
      "  y = column_or_1d(y, warn=True)\n",
      "/anaconda3/envs/coms007/lib/python3.6/site-packages/sklearn/preprocessing/label.py:95: DataConversionWarning: A column-vector y was passed when a 1d array was expected. Please change the shape of y to (n_samples, ), for example using ravel().\n",
      "  y = column_or_1d(y, warn=True)\n",
      "/anaconda3/envs/coms007/lib/python3.6/site-packages/sklearn/preprocessing/label.py:128: DataConversionWarning: A column-vector y was passed when a 1d array was expected. Please change the shape of y to (n_samples, ), for example using ravel().\n",
      "  y = column_or_1d(y, warn=True)\n",
      "/anaconda3/envs/coms007/lib/python3.6/site-packages/sklearn/preprocessing/label.py:95: DataConversionWarning: A column-vector y was passed when a 1d array was expected. Please change the shape of y to (n_samples, ), for example using ravel().\n",
      "  y = column_or_1d(y, warn=True)\n",
      "/anaconda3/envs/coms007/lib/python3.6/site-packages/sklearn/preprocessing/label.py:128: DataConversionWarning: A column-vector y was passed when a 1d array was expected. Please change the shape of y to (n_samples, ), for example using ravel().\n",
      "  y = column_or_1d(y, warn=True)\n",
      "/anaconda3/envs/coms007/lib/python3.6/site-packages/sklearn/preprocessing/label.py:95: DataConversionWarning: A column-vector y was passed when a 1d array was expected. Please change the shape of y to (n_samples, ), for example using ravel().\n",
      "  y = column_or_1d(y, warn=True)\n",
      "/anaconda3/envs/coms007/lib/python3.6/site-packages/sklearn/preprocessing/label.py:128: DataConversionWarning: A column-vector y was passed when a 1d array was expected. Please change the shape of y to (n_samples, ), for example using ravel().\n",
      "  y = column_or_1d(y, warn=True)\n",
      "/anaconda3/envs/coms007/lib/python3.6/site-packages/sklearn/preprocessing/label.py:95: DataConversionWarning: A column-vector y was passed when a 1d array was expected. Please change the shape of y to (n_samples, ), for example using ravel().\n",
      "  y = column_or_1d(y, warn=True)\n",
      "/anaconda3/envs/coms007/lib/python3.6/site-packages/sklearn/preprocessing/label.py:128: DataConversionWarning: A column-vector y was passed when a 1d array was expected. Please change the shape of y to (n_samples, ), for example using ravel().\n",
      "  y = column_or_1d(y, warn=True)\n",
      "/anaconda3/envs/coms007/lib/python3.6/site-packages/sklearn/preprocessing/label.py:95: DataConversionWarning: A column-vector y was passed when a 1d array was expected. Please change the shape of y to (n_samples, ), for example using ravel().\n",
      "  y = column_or_1d(y, warn=True)\n",
      "/anaconda3/envs/coms007/lib/python3.6/site-packages/sklearn/preprocessing/label.py:128: DataConversionWarning: A column-vector y was passed when a 1d array was expected. Please change the shape of y to (n_samples, ), for example using ravel().\n",
      "  y = column_or_1d(y, warn=True)\n",
      "/anaconda3/envs/coms007/lib/python3.6/site-packages/sklearn/preprocessing/label.py:95: DataConversionWarning: A column-vector y was passed when a 1d array was expected. Please change the shape of y to (n_samples, ), for example using ravel().\n",
      "  y = column_or_1d(y, warn=True)\n",
      "/anaconda3/envs/coms007/lib/python3.6/site-packages/sklearn/preprocessing/label.py:128: DataConversionWarning: A column-vector y was passed when a 1d array was expected. Please change the shape of y to (n_samples, ), for example using ravel().\n",
      "  y = column_or_1d(y, warn=True)\n",
      "/anaconda3/envs/coms007/lib/python3.6/site-packages/sklearn/preprocessing/label.py:95: DataConversionWarning: A column-vector y was passed when a 1d array was expected. Please change the shape of y to (n_samples, ), for example using ravel().\n",
      "  y = column_or_1d(y, warn=True)\n",
      "/anaconda3/envs/coms007/lib/python3.6/site-packages/sklearn/preprocessing/label.py:128: DataConversionWarning: A column-vector y was passed when a 1d array was expected. Please change the shape of y to (n_samples, ), for example using ravel().\n",
      "  y = column_or_1d(y, warn=True)\n",
      "/anaconda3/envs/coms007/lib/python3.6/site-packages/sklearn/preprocessing/label.py:95: DataConversionWarning: A column-vector y was passed when a 1d array was expected. Please change the shape of y to (n_samples, ), for example using ravel().\n",
      "  y = column_or_1d(y, warn=True)\n",
      "/anaconda3/envs/coms007/lib/python3.6/site-packages/sklearn/preprocessing/label.py:128: DataConversionWarning: A column-vector y was passed when a 1d array was expected. Please change the shape of y to (n_samples, ), for example using ravel().\n",
      "  y = column_or_1d(y, warn=True)\n",
      "/anaconda3/envs/coms007/lib/python3.6/site-packages/sklearn/preprocessing/label.py:95: DataConversionWarning: A column-vector y was passed when a 1d array was expected. Please change the shape of y to (n_samples, ), for example using ravel().\n",
      "  y = column_or_1d(y, warn=True)\n",
      "/anaconda3/envs/coms007/lib/python3.6/site-packages/sklearn/preprocessing/label.py:128: DataConversionWarning: A column-vector y was passed when a 1d array was expected. Please change the shape of y to (n_samples, ), for example using ravel().\n",
      "  y = column_or_1d(y, warn=True)\n",
      "/anaconda3/envs/coms007/lib/python3.6/site-packages/sklearn/preprocessing/label.py:95: DataConversionWarning: A column-vector y was passed when a 1d array was expected. Please change the shape of y to (n_samples, ), for example using ravel().\n",
      "  y = column_or_1d(y, warn=True)\n",
      "/anaconda3/envs/coms007/lib/python3.6/site-packages/sklearn/preprocessing/label.py:128: DataConversionWarning: A column-vector y was passed when a 1d array was expected. Please change the shape of y to (n_samples, ), for example using ravel().\n",
      "  y = column_or_1d(y, warn=True)\n",
      "/anaconda3/envs/coms007/lib/python3.6/site-packages/sklearn/preprocessing/label.py:95: DataConversionWarning: A column-vector y was passed when a 1d array was expected. Please change the shape of y to (n_samples, ), for example using ravel().\n",
      "  y = column_or_1d(y, warn=True)\n",
      "/anaconda3/envs/coms007/lib/python3.6/site-packages/sklearn/preprocessing/label.py:128: DataConversionWarning: A column-vector y was passed when a 1d array was expected. Please change the shape of y to (n_samples, ), for example using ravel().\n",
      "  y = column_or_1d(y, warn=True)\n",
      "/anaconda3/envs/coms007/lib/python3.6/site-packages/sklearn/preprocessing/label.py:95: DataConversionWarning: A column-vector y was passed when a 1d array was expected. Please change the shape of y to (n_samples, ), for example using ravel().\n",
      "  y = column_or_1d(y, warn=True)\n",
      "/anaconda3/envs/coms007/lib/python3.6/site-packages/sklearn/preprocessing/label.py:128: DataConversionWarning: A column-vector y was passed when a 1d array was expected. Please change the shape of y to (n_samples, ), for example using ravel().\n",
      "  y = column_or_1d(y, warn=True)\n",
      "/anaconda3/envs/coms007/lib/python3.6/site-packages/sklearn/preprocessing/label.py:95: DataConversionWarning: A column-vector y was passed when a 1d array was expected. Please change the shape of y to (n_samples, ), for example using ravel().\n",
      "  y = column_or_1d(y, warn=True)\n",
      "/anaconda3/envs/coms007/lib/python3.6/site-packages/sklearn/preprocessing/label.py:128: DataConversionWarning: A column-vector y was passed when a 1d array was expected. Please change the shape of y to (n_samples, ), for example using ravel().\n",
      "  y = column_or_1d(y, warn=True)\n",
      "/anaconda3/envs/coms007/lib/python3.6/site-packages/sklearn/preprocessing/label.py:95: DataConversionWarning: A column-vector y was passed when a 1d array was expected. Please change the shape of y to (n_samples, ), for example using ravel().\n",
      "  y = column_or_1d(y, warn=True)\n",
      "/anaconda3/envs/coms007/lib/python3.6/site-packages/sklearn/preprocessing/label.py:128: DataConversionWarning: A column-vector y was passed when a 1d array was expected. Please change the shape of y to (n_samples, ), for example using ravel().\n",
      "  y = column_or_1d(y, warn=True)\n",
      "/anaconda3/envs/coms007/lib/python3.6/site-packages/sklearn/preprocessing/label.py:95: DataConversionWarning: A column-vector y was passed when a 1d array was expected. Please change the shape of y to (n_samples, ), for example using ravel().\n",
      "  y = column_or_1d(y, warn=True)\n",
      "/anaconda3/envs/coms007/lib/python3.6/site-packages/sklearn/preprocessing/label.py:128: DataConversionWarning: A column-vector y was passed when a 1d array was expected. Please change the shape of y to (n_samples, ), for example using ravel().\n",
      "  y = column_or_1d(y, warn=True)\n",
      "/anaconda3/envs/coms007/lib/python3.6/site-packages/sklearn/preprocessing/label.py:95: DataConversionWarning: A column-vector y was passed when a 1d array was expected. Please change the shape of y to (n_samples, ), for example using ravel().\n",
      "  y = column_or_1d(y, warn=True)\n",
      "/anaconda3/envs/coms007/lib/python3.6/site-packages/sklearn/preprocessing/label.py:128: DataConversionWarning: A column-vector y was passed when a 1d array was expected. Please change the shape of y to (n_samples, ), for example using ravel().\n",
      "  y = column_or_1d(y, warn=True)\n",
      "/anaconda3/envs/coms007/lib/python3.6/site-packages/sklearn/preprocessing/label.py:95: DataConversionWarning: A column-vector y was passed when a 1d array was expected. Please change the shape of y to (n_samples, ), for example using ravel().\n",
      "  y = column_or_1d(y, warn=True)\n",
      "/anaconda3/envs/coms007/lib/python3.6/site-packages/sklearn/preprocessing/label.py:128: DataConversionWarning: A column-vector y was passed when a 1d array was expected. Please change the shape of y to (n_samples, ), for example using ravel().\n",
      "  y = column_or_1d(y, warn=True)\n",
      "/anaconda3/envs/coms007/lib/python3.6/site-packages/sklearn/preprocessing/label.py:95: DataConversionWarning: A column-vector y was passed when a 1d array was expected. Please change the shape of y to (n_samples, ), for example using ravel().\n",
      "  y = column_or_1d(y, warn=True)\n",
      "/anaconda3/envs/coms007/lib/python3.6/site-packages/sklearn/preprocessing/label.py:128: DataConversionWarning: A column-vector y was passed when a 1d array was expected. Please change the shape of y to (n_samples, ), for example using ravel().\n",
      "  y = column_or_1d(y, warn=True)\n",
      "/anaconda3/envs/coms007/lib/python3.6/site-packages/sklearn/preprocessing/label.py:95: DataConversionWarning: A column-vector y was passed when a 1d array was expected. Please change the shape of y to (n_samples, ), for example using ravel().\n",
      "  y = column_or_1d(y, warn=True)\n",
      "/anaconda3/envs/coms007/lib/python3.6/site-packages/sklearn/preprocessing/label.py:128: DataConversionWarning: A column-vector y was passed when a 1d array was expected. Please change the shape of y to (n_samples, ), for example using ravel().\n",
      "  y = column_or_1d(y, warn=True)\n",
      "/anaconda3/envs/coms007/lib/python3.6/site-packages/sklearn/preprocessing/label.py:95: DataConversionWarning: A column-vector y was passed when a 1d array was expected. Please change the shape of y to (n_samples, ), for example using ravel().\n",
      "  y = column_or_1d(y, warn=True)\n",
      "/anaconda3/envs/coms007/lib/python3.6/site-packages/sklearn/preprocessing/label.py:128: DataConversionWarning: A column-vector y was passed when a 1d array was expected. Please change the shape of y to (n_samples, ), for example using ravel().\n",
      "  y = column_or_1d(y, warn=True)\n",
      "/anaconda3/envs/coms007/lib/python3.6/site-packages/sklearn/preprocessing/label.py:95: DataConversionWarning: A column-vector y was passed when a 1d array was expected. Please change the shape of y to (n_samples, ), for example using ravel().\n",
      "  y = column_or_1d(y, warn=True)\n",
      "/anaconda3/envs/coms007/lib/python3.6/site-packages/sklearn/preprocessing/label.py:128: DataConversionWarning: A column-vector y was passed when a 1d array was expected. Please change the shape of y to (n_samples, ), for example using ravel().\n",
      "  y = column_or_1d(y, warn=True)\n",
      "/anaconda3/envs/coms007/lib/python3.6/site-packages/sklearn/preprocessing/label.py:95: DataConversionWarning: A column-vector y was passed when a 1d array was expected. Please change the shape of y to (n_samples, ), for example using ravel().\n",
      "  y = column_or_1d(y, warn=True)\n",
      "/anaconda3/envs/coms007/lib/python3.6/site-packages/sklearn/preprocessing/label.py:128: DataConversionWarning: A column-vector y was passed when a 1d array was expected. Please change the shape of y to (n_samples, ), for example using ravel().\n",
      "  y = column_or_1d(y, warn=True)\n"
     ]
    }
   ],
   "source": [
    "models = []\n",
    "for i in range(number_of_models):    \n",
    "    X_zeros = x_train.iloc[zeros_index[-samples_in_model:]]\n",
    "    Y_zeros = y_train.iloc[zeros_index[-samples_in_model:]]\n",
    "    X_ones = x_train.iloc[y_train.loc[y_train['AMI_FLAG']==1].index]\n",
    "    Y_ones = y_train.loc[y_train['AMI_FLAG']==1]\n",
    "    X = pd.concat([X_zeros,X_ones])\n",
    "    Y = pd.concat([Y_zeros,Y_ones])\n",
    "    idx = np.random.permutation(X.index)\n",
    "    X = X.reindex(idx)\n",
    "    Y = Y.reindex(idx)\n",
    "    model = xgb.XGBClassifier(n_estimators= 100, random_state= 42)\n",
    "    model.fit(X, Y)\n",
    "    models.append(model)    \n",
    "    zeros_index = zeros_index[:-samples_in_model]"
   ]
  },
  {
   "cell_type": "code",
   "execution_count": 89,
   "metadata": {},
   "outputs": [],
   "source": [
    "predictions_hyper = []\n",
    "for i in models:\n",
    "    j = i.predict_proba(x_test)[:,0]\n",
    "    predictions_hyper.append(j)"
   ]
  },
  {
   "cell_type": "code",
   "execution_count": 90,
   "metadata": {},
   "outputs": [],
   "source": [
    "predictions_hyper = np.array(predictions_hyper).T"
   ]
  },
  {
   "cell_type": "code",
   "execution_count": 91,
   "metadata": {},
   "outputs": [],
   "source": [
    "model_hyper = xgb.XGBClassifier()"
   ]
  },
  {
   "cell_type": "code",
   "execution_count": 92,
   "metadata": {},
   "outputs": [
    {
     "name": "stderr",
     "output_type": "stream",
     "text": [
      "/anaconda3/envs/coms007/lib/python3.6/site-packages/sklearn/preprocessing/label.py:95: DataConversionWarning: A column-vector y was passed when a 1d array was expected. Please change the shape of y to (n_samples, ), for example using ravel().\n",
      "  y = column_or_1d(y, warn=True)\n",
      "/anaconda3/envs/coms007/lib/python3.6/site-packages/sklearn/preprocessing/label.py:128: DataConversionWarning: A column-vector y was passed when a 1d array was expected. Please change the shape of y to (n_samples, ), for example using ravel().\n",
      "  y = column_or_1d(y, warn=True)\n"
     ]
    },
    {
     "data": {
      "text/plain": [
       "XGBClassifier(base_score=0.5, booster='gbtree', colsample_bylevel=1,\n",
       "       colsample_bytree=1, gamma=0, learning_rate=0.1, max_delta_step=0,\n",
       "       max_depth=3, min_child_weight=1, missing=None, n_estimators=100,\n",
       "       n_jobs=1, nthread=None, objective='binary:logistic', random_state=0,\n",
       "       reg_alpha=0, reg_lambda=1, scale_pos_weight=1, seed=None,\n",
       "       silent=True, subsample=1)"
      ]
     },
     "execution_count": 92,
     "metadata": {},
     "output_type": "execute_result"
    }
   ],
   "source": [
    "model_hyper.fit(predictions_hyper, y_test)"
   ]
  },
  {
   "cell_type": "code",
   "execution_count": 93,
   "metadata": {},
   "outputs": [],
   "source": [
    "predictions_hyper_val = []\n",
    "for i in models:\n",
    "    j = i.predict_proba(x_val)[:,0]\n",
    "    predictions_hyper_val.append(j)"
   ]
  },
  {
   "cell_type": "code",
   "execution_count": 94,
   "metadata": {},
   "outputs": [],
   "source": [
    "predictions_hyper_val = np.array(predictions_hyper_val).T"
   ]
  },
  {
   "cell_type": "code",
   "execution_count": 95,
   "metadata": {},
   "outputs": [],
   "source": [
    "predictions_hyper_val = predictions_hyper_val[:,0]\n",
    "threshold = 0.5"
   ]
  },
  {
   "cell_type": "code",
   "execution_count": 96,
   "metadata": {},
   "outputs": [
    {
     "data": {
      "image/png": "[encoded data removed]",
      "text/plain": [
       "<Figure size 432x288 with 1 Axes>"
      ]
     },
     "metadata": {
      "needs_background": "light"
     },
     "output_type": "display_data"
    }
   ],
   "source": [
    "mat_hyper = confusion_mat(predictions=predictions_hyper_val, y_test=y_val, threshold = threshold)"
   ]
  },
  {
   "cell_type": "code",
   "execution_count": 97,
   "metadata": {},
   "outputs": [
    {
     "name": "stdout",
     "output_type": "stream",
     "text": [
      "precision: 0.06, recall: 0.625\n"
     ]
    },
    {
     "data": {
      "text/plain": [
       "0"
      ]
     },
     "execution_count": 97,
     "metadata": {},
     "output_type": "execute_result"
    }
   ],
   "source": [
    "precision_recall(mat_hyper)"
   ]
  },
  {
   "cell_type": "code",
   "execution_count": 98,
   "metadata": {},
   "outputs": [
    {
     "name": "stdout",
     "output_type": "stream",
     "text": [
      "Average precision-recall score: 0.017\n"
     ]
    },
    {
     "data": {
      "image/png": "[encoded data removed]",
      "text/plain": [
       "<Figure size 842.4x595.44 with 1 Axes>"
      ]
     },
     "metadata": {
      "needs_background": "light"
     },
     "output_type": "display_data"
    }
   ],
   "source": [
    "pr_curve(predictions=predictions_hyper_val, y_test=y_val)"
   ]
  },
  {
   "cell_type": "code",
   "execution_count": 99,
   "metadata": {},
   "outputs": [
    {
     "data": {
      "image/png": "[encoded data removed]",
      "text/plain": [
       "<Figure size 432x288 with 1 Axes>"
      ]
     },
     "metadata": {
      "needs_background": "light"
     },
     "output_type": "display_data"
    },
    {
     "data": {
      "text/plain": [
       "0"
      ]
     },
     "execution_count": 99,
     "metadata": {},
     "output_type": "execute_result"
    }
   ],
   "source": [
    "roc(predictions_hyper_val, y_val)"
   ]
  },
  {
   "cell_type": "code",
   "execution_count": null,
   "metadata": {},
   "outputs": [],
   "source": []
  },
  {
   "cell_type": "code",
   "execution_count": null,
   "metadata": {},
   "outputs": [],
   "source": []
  },
  {
   "cell_type": "code",
   "execution_count": null,
   "metadata": {},
   "outputs": [],
   "source": []
  },
  {
   "cell_type": "code",
   "execution_count": null,
   "metadata": {},
   "outputs": [],
   "source": []
  },
  {
   "cell_type": "code",
   "execution_count": null,
   "metadata": {},
   "outputs": [],
   "source": []
  },
  {
   "cell_type": "code",
   "execution_count": null,
   "metadata": {},
   "outputs": [],
   "source": []
  },
  {
   "cell_type": "code",
   "execution_count": null,
   "metadata": {},
   "outputs": [],
   "source": []
  }
 ],
 "metadata": {
  "kernelspec": {
   "display_name": "Python 3",
   "language": "python",
   "name": "python3"
  },
  "language_info": {
   "codemirror_mode": {
    "name": "ipython",
    "version": 3
   },
   "file_extension": ".py",
   "mimetype": "text/x-python",
   "name": "python",
   "nbconvert_exporter": "python",
   "pygments_lexer": "ipython3",
   "version": "3.6.5"
  }
 },
 "nbformat": 4,
 "nbformat_minor": 2
}
